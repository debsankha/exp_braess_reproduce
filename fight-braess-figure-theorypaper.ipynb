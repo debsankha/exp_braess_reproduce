{
 "cells": [
  {
   "cell_type": "markdown",
   "metadata": {},
   "source": [
    "# Set up the problem"
   ]
  },
  {
   "cell_type": "code",
   "execution_count": 1,
   "metadata": {
    "execution": {
     "iopub.execute_input": "2022-05-26T17:33:33.030802Z",
     "iopub.status.busy": "2022-05-26T17:33:33.029714Z",
     "iopub.status.idle": "2022-05-26T17:33:33.043487Z",
     "shell.execute_reply": "2022-05-26T17:33:33.043146Z",
     "shell.execute_reply.started": "2022-05-26T17:33:33.030759Z"
    },
    "tags": []
   },
   "outputs": [],
   "source": [
    "%load_ext autoreload\n",
    "%autoreload 2"
   ]
  },
  {
   "cell_type": "code",
   "execution_count": 2,
   "metadata": {
    "execution": {
     "iopub.execute_input": "2022-05-26T17:33:33.043940Z",
     "iopub.status.busy": "2022-05-26T17:33:33.043876Z",
     "iopub.status.idle": "2022-05-26T17:33:33.647230Z",
     "shell.execute_reply": "2022-05-26T17:33:33.646956Z",
     "shell.execute_reply.started": "2022-05-26T17:33:33.043932Z"
    },
    "tags": []
   },
   "outputs": [],
   "source": [
    "import networkx as nx\n",
    "import numpy as np\n",
    "import matplotlib\n",
    "import seaborn as sns\n",
    "sns.set_style('ticks')\n",
    "matplotlib.rcParams.update(matplotlib.rc_params_from_file('./matplotlibrc'))\n",
    "import matplotlib.pyplot as plt\n",
    "%matplotlib inline\n",
    "matplotlib.rcParams['figure.figsize']=(15,10)\n",
    "matplotlib.rcParams['font.size']=30\n",
    "#matplotlib.rcParams['figure.titlesize']=30\n",
    "matplotlib.rcParams['font.family']='sans-serif'\n",
    "matplotlib.rcParams['font.sans-serif'] = 'libertine'\n",
    "matplotlib.rcParams['text.usetex']=False\n",
    "\n",
    "from flownetpy import LinearFlowNetwork"
   ]
  },
  {
   "cell_type": "code",
   "execution_count": 3,
   "metadata": {
    "execution": {
     "iopub.execute_input": "2022-05-26T17:33:33.647873Z",
     "iopub.status.busy": "2022-05-26T17:33:33.647799Z",
     "iopub.status.idle": "2022-05-26T17:33:33.658434Z",
     "shell.execute_reply": "2022-05-26T17:33:33.658134Z",
     "shell.execute_reply.started": "2022-05-26T17:33:33.647864Z"
    },
    "tags": []
   },
   "outputs": [],
   "source": [
    "import braess_detection"
   ]
  },
  {
   "cell_type": "code",
   "execution_count": 4,
   "metadata": {
    "execution": {
     "iopub.execute_input": "2022-05-26T17:33:33.659959Z",
     "iopub.status.busy": "2022-05-26T17:33:33.659884Z",
     "iopub.status.idle": "2022-05-26T17:33:33.674419Z",
     "shell.execute_reply": "2022-05-26T17:33:33.674144Z",
     "shell.execute_reply.started": "2022-05-26T17:33:33.659950Z"
    },
    "tags": []
   },
   "outputs": [],
   "source": [
    "from braess_detection.braess_tools import steady_flows_vector, steady_flows_dict, maxflow_change_on_each_edge_strengthening, AugmentedGraph\n",
    "import nxdraw_helpers as dr"
   ]
  },
  {
   "cell_type": "code",
   "execution_count": 5,
   "metadata": {
    "execution": {
     "iopub.execute_input": "2022-05-26T17:33:33.675090Z",
     "iopub.status.busy": "2022-05-26T17:33:33.674968Z",
     "iopub.status.idle": "2022-05-26T17:33:35.171243Z",
     "shell.execute_reply": "2022-05-26T17:33:35.169286Z",
     "shell.execute_reply.started": "2022-05-26T17:33:33.675072Z"
    },
    "tags": []
   },
   "outputs": [],
   "source": [
    "N = 5\n",
    "G = nx.grid_2d_graph(N,N)\n",
    "\n",
    "for u,v in G.edges():\n",
    "    G[u][v]['weight'] = 1\n",
    "\n",
    "Gr = AugmentedGraph(G, weight_attr='weight')\n",
    "I = {i:0 for i in Gr.nodes_ordered()}\n",
    "\n",
    "pos = {n:n for n in G.nodes()}\n",
    "\n",
    "# select some sources and some sinks\n",
    "num_srcs = num_sinks = G.number_of_nodes()//8\n",
    "\n",
    "#np.random.seed(21)  #6\n",
    "np.random.seed(1)  #6\n",
    "nonboundary_nodes_idx = [idx for (u,v),idx in Gr.nodes2idx.items() if N//8<u<7*N//8 and N//8<v<7*N//8]\n",
    "src_idxs = np.random.choice(nonboundary_nodes_idx, num_srcs, replace=False)\n",
    "sink_idxs = np.random.choice(list(set(nonboundary_nodes_idx) - set(src_idxs)), num_sinks, replace=False)\n",
    "\n",
    "for idx in src_idxs:\n",
    "    I[Gr.idx2nodes[idx]] = 1\n",
    "for idx in sink_idxs:\n",
    "    I[Gr.idx2nodes[idx]] = -1\n"
   ]
  },
  {
   "cell_type": "code",
   "execution_count": 6,
   "metadata": {
    "execution": {
     "iopub.execute_input": "2022-05-26T17:33:35.185748Z",
     "iopub.status.busy": "2022-05-26T17:33:35.178468Z",
     "iopub.status.idle": "2022-05-26T17:33:35.205329Z",
     "shell.execute_reply": "2022-05-26T17:33:35.203157Z",
     "shell.execute_reply.started": "2022-05-26T17:33:35.185732Z"
    },
    "tags": []
   },
   "outputs": [],
   "source": [
    "def compute_maxflow_edge(ag:AugmentedGraph, stflows_dict:dict):\n",
    "    maxflow_idx = np.argmax(np.abs(list(stflows_dict.values())))\n",
    "    maxflow_edge = ag.idx2edges[maxflow_idx]\n",
    "    return stflows_dict[maxflow_edge], maxflow_edge\n",
    "\n",
    "\n",
    "def src_sink(edge, flows:dict): \n",
    "    if flows[edge] > 0:\n",
    "        src, sink = edge\n",
    "    else:\n",
    "        sink, src = edge\n",
    "    return src, sink\n",
    "\n",
    "stflows_dict = steady_flows_dict(Gr, inputs=I)\n",
    "stflows_vec = np.array([stflows_dict[i] for i in Gr.edges_ordered()])\n",
    "maxflow, maxflow_edge = compute_maxflow_edge(ag=Gr, stflows_dict=stflows_dict)\n",
    "\n",
    "maxflow_src, maxflow_sink = src_sink(maxflow_edge, stflows_dict)"
   ]
  },
  {
   "cell_type": "code",
   "execution_count": 7,
   "metadata": {
    "execution": {
     "iopub.execute_input": "2022-05-26T17:33:35.208646Z",
     "iopub.status.busy": "2022-05-26T17:33:35.208316Z",
     "iopub.status.idle": "2022-05-26T17:33:35.237177Z",
     "shell.execute_reply": "2022-05-26T17:33:35.234210Z",
     "shell.execute_reply.started": "2022-05-26T17:33:35.208634Z"
    },
    "tags": []
   },
   "outputs": [],
   "source": [
    "dF = maxflow_change_on_each_edge_strengthening(Gr, stflows_vec, maxflow_src, maxflow_sink)\n",
    "dF[maxflow_edge] = 0\n",
    "\n",
    "\n",
    "be_edges = [e for e,df in dF.items() if df > 0]\n",
    "nbe_edges = [e for e,df in dF.items() if df < 0]"
   ]
  },
  {
   "cell_type": "markdown",
   "metadata": {},
   "source": [
    "## We identify edges that can be used to mitigate a damage."
   ]
  },
  {
   "cell_type": "code",
   "execution_count": 8,
   "metadata": {
    "execution": {
     "iopub.execute_input": "2022-05-26T17:33:35.240020Z",
     "iopub.status.busy": "2022-05-26T17:33:35.239917Z",
     "iopub.status.idle": "2022-05-26T17:33:35.258485Z",
     "shell.execute_reply": "2022-05-26T17:33:35.256832Z",
     "shell.execute_reply.started": "2022-05-26T17:33:35.240010Z"
    },
    "tags": []
   },
   "outputs": [
    {
     "data": {
      "text/plain": [
       "((7, 9), (6, 9))"
      ]
     },
     "execution_count": 8,
     "metadata": {},
     "output_type": "execute_result"
    }
   ],
   "source": [
    "maxflow_src, maxflow_sink"
   ]
  },
  {
   "cell_type": "markdown",
   "metadata": {},
   "source": [
    "### choose a non-braessian edge to damage"
   ]
  },
  {
   "cell_type": "code",
   "execution_count": 9,
   "metadata": {
    "execution": {
     "iopub.execute_input": "2022-05-26T17:33:35.260115Z",
     "iopub.status.busy": "2022-05-26T17:33:35.260026Z",
     "iopub.status.idle": "2022-05-26T17:33:35.277104Z",
     "shell.execute_reply": "2022-05-26T17:33:35.275133Z",
     "shell.execute_reply.started": "2022-05-26T17:33:35.260105Z"
    },
    "tags": []
   },
   "outputs": [],
   "source": [
    "to_perturb_s, to_perturb_e = nbe_edges[np.random.choice(len(nbe_edges))]\n",
    "#to_perturb_s, to_perturb_e = Gr.idx2edges[np.argmin(dF)] # most \"non-braessian edge\"\n",
    "\n",
    "EPS = 0.1\n",
    "# check that the new maxflow is indeed higher\n",
    "H = G.copy()\n",
    "for u,v in H.edges():\n",
    "    H[u][v]['weight'] = 1\n",
    "H[to_perturb_s][to_perturb_e]['weight'] -= EPS"
   ]
  },
  {
   "cell_type": "code",
   "execution_count": 10,
   "metadata": {
    "execution": {
     "iopub.execute_input": "2022-05-26T17:33:35.280134Z",
     "iopub.status.busy": "2022-05-26T17:33:35.279538Z",
     "iopub.status.idle": "2022-05-26T17:33:35.297331Z",
     "shell.execute_reply": "2022-05-26T17:33:35.296075Z",
     "shell.execute_reply.started": "2022-05-26T17:33:35.280115Z"
    },
    "tags": []
   },
   "outputs": [
    {
     "data": {
      "text/plain": [
       "((1, 2), (1, 1), ((6, 9), (7, 9)))"
      ]
     },
     "execution_count": 10,
     "metadata": {},
     "output_type": "execute_result"
    }
   ],
   "source": [
    "to_perturb_e, to_perturb_s, maxflow_edge"
   ]
  },
  {
   "cell_type": "code",
   "execution_count": 11,
   "metadata": {
    "execution": {
     "iopub.execute_input": "2022-05-26T17:33:35.300779Z",
     "iopub.status.busy": "2022-05-26T17:33:35.299780Z",
     "iopub.status.idle": "2022-05-26T17:33:35.320565Z",
     "shell.execute_reply": "2022-05-26T17:33:35.318501Z",
     "shell.execute_reply.started": "2022-05-26T17:33:35.300766Z"
    },
    "tags": []
   },
   "outputs": [
    {
     "data": {
      "text/plain": [
       "{'weight': 0.9}"
      ]
     },
     "execution_count": 11,
     "metadata": {},
     "output_type": "execute_result"
    }
   ],
   "source": [
    "H[to_perturb_e][to_perturb_s]"
   ]
  },
  {
   "cell_type": "code",
   "execution_count": 12,
   "metadata": {
    "execution": {
     "iopub.execute_input": "2022-05-26T17:33:35.322614Z",
     "iopub.status.busy": "2022-05-26T17:33:35.322525Z",
     "iopub.status.idle": "2022-05-26T17:33:37.329590Z",
     "shell.execute_reply": "2022-05-26T17:33:37.328301Z",
     "shell.execute_reply.started": "2022-05-26T17:33:35.322604Z"
    },
    "tags": []
   },
   "outputs": [],
   "source": [
    "Gr_firstcut = AugmentedGraph(H, weight_attr='weight')\n",
    "stflows_dict_firstcut = steady_flows_dict(Gr_firstcut, I)\n",
    "stflows_vec_firstcut = steady_flows_vector(Gr_firstcut, I)\n",
    "\n",
    "maxflow_firstcut, maxflow_edge_firstcut = compute_maxflow_edge(ag=Gr_firstcut, stflows_dict=stflows_dict_firstcut)\n",
    "assert maxflow_edge_firstcut == maxflow_edge, \"the maximum flow is no longer across the same edge\"\n",
    "assert abs(maxflow_firstcut) > abs(maxflow)"
   ]
  },
  {
   "cell_type": "code",
   "execution_count": 13,
   "metadata": {
    "execution": {
     "iopub.execute_input": "2022-05-26T17:33:37.346154Z",
     "iopub.status.busy": "2022-05-26T17:33:37.345538Z",
     "iopub.status.idle": "2022-05-26T17:33:37.385350Z",
     "shell.execute_reply": "2022-05-26T17:33:37.383575Z",
     "shell.execute_reply.started": "2022-05-26T17:33:37.346113Z"
    },
    "tags": []
   },
   "outputs": [],
   "source": [
    "dF_firstcut = maxflow_change_on_each_edge_strengthening(Gr_firstcut, stflows_vec_firstcut, maxflow_src, maxflow_sink)"
   ]
  },
  {
   "cell_type": "markdown",
   "metadata": {},
   "source": [
    "### What happens now if each breassian edges are damaged as well?"
   ]
  },
  {
   "cell_type": "markdown",
   "metadata": {},
   "source": [
    "### A bruteforce exact solver"
   ]
  },
  {
   "cell_type": "code",
   "execution_count": 14,
   "metadata": {
    "execution": {
     "iopub.execute_input": "2022-05-26T17:33:37.387950Z",
     "iopub.status.busy": "2022-05-26T17:33:37.387777Z",
     "iopub.status.idle": "2022-05-26T17:33:37.403422Z",
     "shell.execute_reply": "2022-05-26T17:33:37.401167Z",
     "shell.execute_reply.started": "2022-05-26T17:33:37.387937Z"
    },
    "tags": []
   },
   "outputs": [],
   "source": [
    "def maxflow_with_noninfinitesimal_delta(G:nx.Graph, edge_to_perturb, deltaK, inputs):\n",
    "    T = G.copy()\n",
    "    s,t = edge_to_perturb\n",
    "    assert 'weight' in T[s][t]\n",
    "    T[s][t]['weight'] += deltaK\n",
    "\n",
    "    Gr = AugmentedGraph(T, weight_attr='weight')\n",
    "    stflows_dict = steady_flows_dict(Gr, inputs)\n",
    "    \n",
    "    return max(np.abs([i for i in stflows_dict.values()]))"
   ]
  },
  {
   "cell_type": "code",
   "execution_count": 15,
   "metadata": {
    "execution": {
     "iopub.execute_input": "2022-05-26T17:33:37.405416Z",
     "iopub.status.busy": "2022-05-26T17:33:37.405318Z",
     "iopub.status.idle": "2022-05-26T17:33:39.450722Z",
     "shell.execute_reply": "2022-05-26T17:33:39.434821Z",
     "shell.execute_reply.started": "2022-05-26T17:33:37.405406Z"
    },
    "tags": []
   },
   "outputs": [],
   "source": [
    "assert np.isclose(maxflow_with_noninfinitesimal_delta(G, edge_to_perturb=((0,0), (0,1)), deltaK=0, inputs=I), abs(maxflow))"
   ]
  },
  {
   "cell_type": "code",
   "execution_count": null,
   "metadata": {
    "execution": {
     "iopub.execute_input": "2022-05-26T17:33:39.461106Z",
     "iopub.status.busy": "2022-05-26T17:33:39.460578Z"
    },
    "tags": []
   },
   "outputs": [],
   "source": [
    "fig, ax = plt.subplots(figsize=(12,7))\n",
    "\n",
    "x = np.linspace(0,1,100)\n",
    "y = [maxflow_with_noninfinitesimal_delta(G, edge_to_perturb=((0,0), (0,1)), deltaK=i, inputs=I) for i in x]\n",
    "\n",
    "ax.plot(x,y)"
   ]
  },
  {
   "cell_type": "code",
   "execution_count": null,
   "metadata": {
    "tags": []
   },
   "outputs": [],
   "source": [
    "deltaK_to_mitigate = []\n",
    "edges_mitigating = []\n",
    "edges_notmitigating_nonbraess = []\n",
    "edges_notmitigating_braess = []\n",
    "\n",
    "orig_abs_maxflow = abs(maxflow)\n",
    "deltaK_arr = np.linspace(-1,0,100)\n",
    "\n",
    "for e in Gr_firstcut.edges_ordered():\n",
    "    if e == maxflow_edge:\n",
    "        continue\n",
    "   \n",
    "    maxflow_arr = np.array([maxflow_with_noninfinitesimal_delta(H, edge_to_perturb=e, deltaK=deltaK, inputs=I) for deltaK in deltaK_arr])\n",
    "    \n",
    "    if min(maxflow_arr) < orig_abs_maxflow:\n",
    "        edges_mitigating.append(e)\n",
    "        deltaK_needed = deltaK_arr[np.flatnonzero(maxflow_arr < orig_abs_maxflow)[-1]]\n",
    "        deltaK_to_mitigate.append(-deltaK_needed)\n",
    "        assert e in be_edges\n",
    "    else:\n",
    "        if e in be_edges:\n",
    "            edges_notmitigating_braess.append(e)\n",
    "        else:\n",
    "            edges_notmitigating_nonbraess.append(e)"
   ]
  },
  {
   "cell_type": "code",
   "execution_count": null,
   "metadata": {
    "tags": []
   },
   "outputs": [],
   "source": [
    "deltaK_to_mitigate"
   ]
  },
  {
   "cell_type": "code",
   "execution_count": null,
   "metadata": {
    "tags": []
   },
   "outputs": [],
   "source": [
    "import nxdraw_helpers as dr\n",
    "fig, ax = plt.subplots(1,1,figsize=(10,10))\n",
    "#dr.draw_networkx_coloured_by_flow(Gr, F, inputs = I, pos= pos, ax = ax)\n",
    "dr.draw_networkx_src_and_sink(G, inputs=I, pos=pos, ax=ax)\n",
    "#flowdict = dr.to_flowdict(F, Gr)\n",
    "dr.draw_edge_arrowheads(G, pos, stflows_dict, ax)\n",
    "\n",
    "\n",
    "_edge_width = 9\n",
    "edge_cmap = sns.cubehelix_palette(start=0, rot=-.5, dark=0.5, as_cmap=True)\n",
    "\n",
    "# draw non-mitigating edges\n",
    "dr.draw_networkx_colored_edges(G, edgelist= edges_notmitigating_braess, colors='xkcd:gold', ax=ax, style=(0, (3,1)),\n",
    "                               pos=pos, with_cbar=False, width=_edge_width)\n",
    "\n",
    "# draw non-braessian edges\n",
    "dr.draw_networkx_colored_edges(G, edgelist=edges_notmitigating_nonbraess, colors='xkcd:grey', ax=ax, style=(0, (3,1)),\n",
    "                               pos=pos, with_cbar=False, width=_edge_width)\n",
    "\n",
    "\n",
    "# draw how much other edges have to be cut to mitigate\n",
    "dr.draw_networkx_colored_edges(G, edgelist= edges_mitigating, colors=[i for i in deltaK_to_mitigate], ax=ax,\n",
    "                               pos=pos, with_cbar=True, vmin=0, vmax=1, width=_edge_width,\n",
    "                               cmap=edge_cmap, cbar_label='Amount of damage\\nmitigating overload',\n",
    "                               )\n",
    "\n",
    "# draw maxflow edge\n",
    "dr.draw_networkx_colored_edges(G, edgelist=[maxflow_edge], colors=\"xkcd:sky blue\",\n",
    "                               ax=ax, pos=pos, with_cbar=False, width=_edge_width)\n",
    "\n",
    "# Draw first cut\n",
    "dr.draw_networkx_colored_edges(G, edgelist=[(to_perturb_s, to_perturb_e)],\n",
    "                               colors=\"xkcd:red\", ax=ax, pos=pos,\n",
    "                               with_cbar=False, width=_edge_width)\n",
    "\n",
    "\n",
    "# draw legends\n",
    "proxies = [matplotlib.lines.Line2D([0,1], [0], color='xkcd:sky blue', linewidth=4),\n",
    "           matplotlib.lines.Line2D([0,1], [0], color='xkcd:red', linewidth=4),\n",
    "           matplotlib.lines.Line2D([0,1], [0], color=edge_cmap.colors[len(edge_cmap.colors)//2], linewidth=4),\n",
    "           matplotlib.lines.Line2D([0,1], [0], color='xkcd:gold', linewidth=4, linestyle=(0, (3,1))),\n",
    "           matplotlib.lines.Line2D([0,1], [0], color='xkcd:grey', linewidth=4, linestyle=(0, (3,1))),\n",
    "          ]\n",
    "\n",
    "descriptions = [\n",
    "    'maximum flow', \n",
    "    'damaged this edge, maxflow increases', \n",
    "    'damaging this Braessian edge mitigates overload,\\ncolor shows extent of damage needed',  \n",
    "    'damaging this Braessian edge does not mitigate overload',  \n",
    "    'non-Braessian edge, damaging does not mitigate overload']\n",
    "\n",
    "#ax2 = fig.add_axes([0,0, 1, 0.1])\n",
    "#ax2.axis('off')\n",
    "ax.legend(proxies, descriptions, numpoints=1, markerscale=2, fontsize=20, loc='lower left', \n",
    "          bbox_to_anchor=(0, -0.4), frameon=False\n",
    "         )\n",
    "#fig.savefig('toy-fighting-braess.pdf', bbox_inches='tight')"
   ]
  },
  {
   "cell_type": "code",
   "execution_count": null,
   "metadata": {},
   "outputs": [],
   "source": []
  }
 ],
 "metadata": {
  "kernelspec": {
   "display_name": "Python 3 (ipykernel)",
   "language": "python",
   "name": "python3"
  },
  "language_info": {
   "codemirror_mode": {
    "name": "ipython",
    "version": 3
   },
   "file_extension": ".py",
   "mimetype": "text/x-python",
   "name": "python",
   "nbconvert_exporter": "python",
   "pygments_lexer": "ipython3",
   "version": "3.8.10"
  },
  "latex_envs": {
   "LaTeX_envs_menu_present": true,
   "autoclose": false,
   "autocomplete": true,
   "bibliofile": "biblio.bib",
   "cite_by": "apalike",
   "current_citInitial": 1,
   "eqLabelWithNumbers": true,
   "eqNumInitial": 0,
   "hotkeys": {
    "equation": "Ctrl-E",
    "itemize": "Ctrl-I"
   },
   "labels_anchors": false,
   "latex_user_defs": false,
   "report_style_numbering": false,
   "user_envs_cfg": false
  },
  "nav_menu": {},
  "toc": {
   "nav_menu": {
    "height": "47px",
    "width": "253px"
   },
   "number_sections": true,
   "sideBar": true,
   "skip_h1_title": false,
   "title_cell": "Table of Contents",
   "title_sidebar": "Contents",
   "toc_cell": false,
   "toc_position": {},
   "toc_section_display": "block",
   "toc_window_display": false
  }
 },
 "nbformat": 4,
 "nbformat_minor": 4
}

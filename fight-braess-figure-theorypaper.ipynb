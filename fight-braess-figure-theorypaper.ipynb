{
 "cells": [
  {
   "cell_type": "markdown",
   "metadata": {},
   "source": [
    "# Set up the problem"
   ]
  },
  {
   "cell_type": "code",
   "execution_count": 1,
   "metadata": {
    "execution": {
     "iopub.execute_input": "2022-05-25T20:33:27.467424Z",
     "iopub.status.busy": "2022-05-25T20:33:27.466721Z",
     "iopub.status.idle": "2022-05-25T20:33:27.480499Z",
     "shell.execute_reply": "2022-05-25T20:33:27.479504Z",
     "shell.execute_reply.started": "2022-05-25T20:33:27.467340Z"
    },
    "tags": []
   },
   "outputs": [],
   "source": [
    "%load_ext autoreload\n",
    "%autoreload 2"
   ]
  },
  {
   "cell_type": "code",
   "execution_count": 2,
   "metadata": {
    "execution": {
     "iopub.execute_input": "2022-05-25T20:33:27.481442Z",
     "iopub.status.busy": "2022-05-25T20:33:27.481357Z",
     "iopub.status.idle": "2022-05-25T20:33:28.099443Z",
     "shell.execute_reply": "2022-05-25T20:33:28.099164Z",
     "shell.execute_reply.started": "2022-05-25T20:33:27.481431Z"
    },
    "tags": []
   },
   "outputs": [],
   "source": [
    "import networkx as nx\n",
    "import numpy as np\n",
    "import matplotlib\n",
    "import seaborn as sns\n",
    "sns.set_style('ticks')\n",
    "matplotlib.rcParams.update(matplotlib.rc_params_from_file('./matplotlibrc'))\n",
    "import matplotlib.pyplot as plt\n",
    "%matplotlib inline\n",
    "matplotlib.rcParams['figure.figsize']=(15,10)\n",
    "matplotlib.rcParams['font.size']=30\n",
    "#matplotlib.rcParams['figure.titlesize']=30\n",
    "matplotlib.rcParams['font.family']='sans-serif'\n",
    "matplotlib.rcParams['font.sans-serif'] = 'libertine'\n",
    "matplotlib.rcParams['text.usetex']=False\n",
    "\n",
    "from flownetpy import LinearFlowNetwork"
   ]
  },
  {
   "cell_type": "code",
   "execution_count": 3,
   "metadata": {
    "execution": {
     "iopub.execute_input": "2022-05-25T20:33:28.100104Z",
     "iopub.status.busy": "2022-05-25T20:33:28.100016Z",
     "iopub.status.idle": "2022-05-25T20:33:28.110779Z",
     "shell.execute_reply": "2022-05-25T20:33:28.110408Z",
     "shell.execute_reply.started": "2022-05-25T20:33:28.100095Z"
    },
    "tags": []
   },
   "outputs": [],
   "source": [
    "import braess_detection"
   ]
  },
  {
   "cell_type": "code",
   "execution_count": 4,
   "metadata": {
    "execution": {
     "iopub.execute_input": "2022-05-25T20:33:28.112566Z",
     "iopub.status.busy": "2022-05-25T20:33:28.112434Z",
     "iopub.status.idle": "2022-05-25T20:33:28.129685Z",
     "shell.execute_reply": "2022-05-25T20:33:28.129407Z",
     "shell.execute_reply.started": "2022-05-25T20:33:28.112545Z"
    },
    "tags": []
   },
   "outputs": [],
   "source": [
    "from braess_detection.braess_tools import steady_flows_vector, steady_flows_dict, maxflow_change_on_each_edge_strengthening, AugmentedGraph\n",
    "import nxdraw_helpers as dr"
   ]
  },
  {
   "cell_type": "code",
   "execution_count": 5,
   "metadata": {
    "execution": {
     "iopub.execute_input": "2022-05-25T20:33:28.130436Z",
     "iopub.status.busy": "2022-05-25T20:33:28.130320Z",
     "iopub.status.idle": "2022-05-25T20:33:28.144747Z",
     "shell.execute_reply": "2022-05-25T20:33:28.144323Z",
     "shell.execute_reply.started": "2022-05-25T20:33:28.130422Z"
    },
    "tags": []
   },
   "outputs": [],
   "source": [
    "N = 5\n",
    "G = nx.grid_2d_graph(N,N)\n",
    "Gr = AugmentedGraph(G)\n",
    "I = {i:0 for i in Gr.nodes_ordered()}\n",
    "\n",
    "pos = {n:n for n in G.nodes()}\n",
    "\n",
    "# select some sources and some sinks\n",
    "num_srcs = num_sinks = G.number_of_nodes()//8\n",
    "\n",
    "np.random.seed(21)  #6\n",
    "nonboundary_nodes_idx = [idx for (u,v),idx in Gr.nodes2idx.items() if N//8<u<7*N//8 and N//8<v<7*N//8]\n",
    "src_idxs = np.random.choice(nonboundary_nodes_idx, num_srcs, replace=False)\n",
    "sink_idxs = np.random.choice(list(set(nonboundary_nodes_idx) - set(src_idxs)), num_sinks, replace=False)\n",
    "\n",
    "for idx in src_idxs:\n",
    "    I[Gr.idx2nodes[idx]] = 1\n",
    "for idx in sink_idxs:\n",
    "    I[Gr.idx2nodes[idx]] = -1\n"
   ]
  },
  {
   "cell_type": "code",
   "execution_count": 6,
   "metadata": {
    "execution": {
     "iopub.execute_input": "2022-05-25T20:33:28.145299Z",
     "iopub.status.busy": "2022-05-25T20:33:28.145219Z",
     "iopub.status.idle": "2022-05-25T20:33:28.157769Z",
     "shell.execute_reply": "2022-05-25T20:33:28.157316Z",
     "shell.execute_reply.started": "2022-05-25T20:33:28.145290Z"
    },
    "tags": []
   },
   "outputs": [],
   "source": [
    "def compute_maxflow_edge(ag:AugmentedGraph, stflows_dict:dict):\n",
    "    maxflow_idx = np.argmax(np.abs(list(stflows_dict.values())))\n",
    "    maxflow_edge = ag.idx2edges[maxflow_idx]\n",
    "    return stflows_dict[maxflow_edge], maxflow_edge\n",
    "\n",
    "\n",
    "def src_sink(edge, flows:dict): \n",
    "    if flows[edge] > 0:\n",
    "        src, sink = edge\n",
    "    else:\n",
    "        sink, src = edge\n",
    "    return src, sink\n",
    "\n",
    "stflows_dict = steady_flows_dict(Gr, inputs=I)\n",
    "stflows_vec = np.array([stflows_dict[i] for i in Gr.edges_ordered()])\n",
    "maxflow, maxflow_edge = compute_maxflow_edge(ag=Gr, stflows_dict=stflows_dict)\n",
    "\n",
    "maxflow_src, maxflow_sink = src_sink(maxflow_edge, stflows_dict)"
   ]
  },
  {
   "cell_type": "code",
   "execution_count": 7,
   "metadata": {
    "execution": {
     "iopub.execute_input": "2022-05-25T20:33:28.158426Z",
     "iopub.status.busy": "2022-05-25T20:33:28.158349Z",
     "iopub.status.idle": "2022-05-25T20:33:28.170322Z",
     "shell.execute_reply": "2022-05-25T20:33:28.169938Z",
     "shell.execute_reply.started": "2022-05-25T20:33:28.158417Z"
    },
    "tags": []
   },
   "outputs": [],
   "source": [
    "dF = maxflow_change_on_each_edge_strengthening(Gr, stflows_vec, maxflow_src, maxflow_sink)\n",
    "dF[maxflow_edge] = 0\n",
    "\n",
    "\n",
    "be_edges = [e for e,df in dF.items() if df > 0]\n",
    "nbe_edges = [e for e,df in dF.items() if df < 0]"
   ]
  },
  {
   "cell_type": "markdown",
   "metadata": {},
   "source": [
    "## We identify edges that can be used to mitigate a damage."
   ]
  },
  {
   "cell_type": "code",
   "execution_count": 8,
   "metadata": {
    "execution": {
     "iopub.execute_input": "2022-05-25T20:33:28.171007Z",
     "iopub.status.busy": "2022-05-25T20:33:28.170918Z",
     "iopub.status.idle": "2022-05-25T20:33:28.183180Z",
     "shell.execute_reply": "2022-05-25T20:33:28.182783Z",
     "shell.execute_reply.started": "2022-05-25T20:33:28.170997Z"
    },
    "tags": []
   },
   "outputs": [
    {
     "data": {
      "text/plain": [
       "((1, 3), (2, 3))"
      ]
     },
     "execution_count": 8,
     "metadata": {},
     "output_type": "execute_result"
    }
   ],
   "source": [
    "maxflow_src, maxflow_sink"
   ]
  },
  {
   "cell_type": "markdown",
   "metadata": {},
   "source": [
    "### choose a non-braessian edge to damage"
   ]
  },
  {
   "cell_type": "code",
   "execution_count": 9,
   "metadata": {
    "execution": {
     "iopub.execute_input": "2022-05-25T20:33:28.183774Z",
     "iopub.status.busy": "2022-05-25T20:33:28.183704Z",
     "iopub.status.idle": "2022-05-25T20:33:28.196083Z",
     "shell.execute_reply": "2022-05-25T20:33:28.195584Z",
     "shell.execute_reply.started": "2022-05-25T20:33:28.183765Z"
    },
    "tags": []
   },
   "outputs": [],
   "source": [
    "to_perturb_s, to_perturb_e = nbe_edges[np.random.choice(len(nbe_edges))]\n",
    "#to_perturb_s, to_perturb_e = Gr.idx2edges[np.argmin(dF)] # most \"non-braessian edge\"\n",
    "\n",
    "EPS = 0.1\n",
    "# check that the new maxflow is indeed higher\n",
    "H = G.copy()\n",
    "for u,v in H.edges():\n",
    "    H[u][v]['weight'] = 1\n",
    "H[to_perturb_s][to_perturb_e]['weight'] -= EPS"
   ]
  },
  {
   "cell_type": "code",
   "execution_count": 10,
   "metadata": {
    "execution": {
     "iopub.execute_input": "2022-05-25T20:33:28.196690Z",
     "iopub.status.busy": "2022-05-25T20:33:28.196620Z",
     "iopub.status.idle": "2022-05-25T20:33:28.209055Z",
     "shell.execute_reply": "2022-05-25T20:33:28.208658Z",
     "shell.execute_reply.started": "2022-05-25T20:33:28.196681Z"
    },
    "tags": []
   },
   "outputs": [
    {
     "data": {
      "text/plain": [
       "((1, 4), (1, 3), ((1, 3), (2, 3)))"
      ]
     },
     "execution_count": 10,
     "metadata": {},
     "output_type": "execute_result"
    }
   ],
   "source": [
    "to_perturb_e, to_perturb_s, maxflow_edge"
   ]
  },
  {
   "cell_type": "code",
   "execution_count": 11,
   "metadata": {
    "execution": {
     "iopub.execute_input": "2022-05-25T20:33:28.210078Z",
     "iopub.status.busy": "2022-05-25T20:33:28.209783Z",
     "iopub.status.idle": "2022-05-25T20:33:28.222219Z",
     "shell.execute_reply": "2022-05-25T20:33:28.221733Z",
     "shell.execute_reply.started": "2022-05-25T20:33:28.210067Z"
    },
    "tags": []
   },
   "outputs": [
    {
     "data": {
      "text/plain": [
       "{'weight': 0.9}"
      ]
     },
     "execution_count": 11,
     "metadata": {},
     "output_type": "execute_result"
    }
   ],
   "source": [
    "H[to_perturb_e][to_perturb_s]"
   ]
  },
  {
   "cell_type": "code",
   "execution_count": 12,
   "metadata": {
    "execution": {
     "iopub.execute_input": "2022-05-25T20:33:28.223218Z",
     "iopub.status.busy": "2022-05-25T20:33:28.223029Z",
     "iopub.status.idle": "2022-05-25T20:33:28.236229Z",
     "shell.execute_reply": "2022-05-25T20:33:28.235891Z",
     "shell.execute_reply.started": "2022-05-25T20:33:28.223197Z"
    },
    "tags": []
   },
   "outputs": [],
   "source": [
    "Gr_firstcut = AugmentedGraph(H, weight_attr='weight')\n",
    "stflows_dict_firstcut = steady_flows_dict(Gr_firstcut, I)\n",
    "stflows_vec_firstcut = steady_flows_vector(Gr_firstcut, I)\n",
    "\n",
    "maxflow_firstcut, maxflow_edge_firstcut = compute_maxflow_edge(ag=Gr_firstcut, stflows_dict=stflows_dict_firstcut)\n",
    "assert maxflow_edge_firstcut == maxflow_edge, \"the maximum flow is no longer across the same edge\"\n",
    "assert abs(maxflow_firstcut) > abs(maxflow)"
   ]
  },
  {
   "cell_type": "code",
   "execution_count": 41,
   "metadata": {
    "execution": {
     "iopub.execute_input": "2022-05-25T20:53:18.934283Z",
     "iopub.status.busy": "2022-05-25T20:53:18.933924Z",
     "iopub.status.idle": "2022-05-25T20:53:18.965779Z",
     "shell.execute_reply": "2022-05-25T20:53:18.965325Z",
     "shell.execute_reply.started": "2022-05-25T20:53:18.934257Z"
    },
    "tags": []
   },
   "outputs": [
    {
     "data": {
      "text/plain": [
       "array([ 0.0034322 , -0.0034322 ,  0.00258116, -0.00601336, -0.00167378,\n",
       "       -0.00433957, -0.00225665, -0.00208292, -0.00208292,  0.00771545,\n",
       "       -0.00428325,  0.00856621, -0.0102683 , -0.00701964, -0.00492244,\n",
       "       -0.00546082, -0.00171827, -0.00380119,  0.01114794, -0.00343249,\n",
       "        0.03098786, -0.02585415, -0.02951016, -0.00336362, -0.00857488,\n",
       "       -0.00024956, -0.00405075, -0.00525949,  0.01640743, -0.0269264 ,\n",
       "        0.07432169,  0.02723987,  0.01757166,  0.0047222 ,  0.00427457,\n",
       "        0.00022382, -0.00525949, -0.03218589, -0.00494602, -0.00022382])"
      ]
     },
     "execution_count": 41,
     "metadata": {},
     "output_type": "execute_result"
    }
   ],
   "source": [
    "stflows_vec_secondcut - stflows_vec_firstcut"
   ]
  },
  {
   "cell_type": "code",
   "execution_count": 14,
   "metadata": {
    "execution": {
     "iopub.execute_input": "2022-05-25T20:33:28.251339Z",
     "iopub.status.busy": "2022-05-25T20:33:28.251262Z",
     "iopub.status.idle": "2022-05-25T20:33:28.262965Z",
     "shell.execute_reply": "2022-05-25T20:33:28.262619Z",
     "shell.execute_reply.started": "2022-05-25T20:33:28.251330Z"
    },
    "tags": []
   },
   "outputs": [],
   "source": [
    "dF_firstcut = maxflow_change_on_each_edge_strengthening(Gr_firstcut, stflows_vec_firstcut, maxflow_src, maxflow_sink)"
   ]
  },
  {
   "cell_type": "markdown",
   "metadata": {},
   "source": [
    "### What happens now if each breassian edges are damaged as well?"
   ]
  },
  {
   "cell_type": "code",
   "execution_count": 44,
   "metadata": {
    "execution": {
     "iopub.execute_input": "2022-05-25T20:57:22.496308Z",
     "iopub.status.busy": "2022-05-25T20:57:22.496011Z",
     "iopub.status.idle": "2022-05-25T20:57:22.556265Z",
     "shell.execute_reply": "2022-05-25T20:57:22.555890Z",
     "shell.execute_reply.started": "2022-05-25T20:57:22.496283Z"
    },
    "tags": []
   },
   "outputs": [
    {
     "name": "stdout",
     "output_type": "stream",
     "text": [
      "_flow_at_orig_maxflow_edge_now=0.7377395442508609, _orig_maxflow=0.7387878787878783\n",
      "expected_df=0.004461367857485743, actual_df=-0.005509702394503213\n",
      "_flow_at_orig_maxflow_edge_now=0.7382726479578003, _orig_maxflow=0.7387878787878783\n",
      "expected_df=0.004461367857485743, actual_df=-0.004976598687563727\n",
      "_flow_at_orig_maxflow_edge_now=0.7377884243423208, _orig_maxflow=0.7387878787878783\n",
      "expected_df=0.004461367857485743, actual_df=-0.0054608223030432335\n"
     ]
    }
   ],
   "source": [
    "deltaK_to_mitigate = []\n",
    "edges_mitigating = []\n",
    "edges_notmitigating = []\n",
    "\n",
    "for e in Gr_firstcut.edges_ordered():\n",
    "    if e == maxflow_edge:\n",
    "        continue\n",
    "    response = dF_firstcut[e]\n",
    "    deltaK = (maxflow_firstcut - maxflow)/response\n",
    "    \n",
    "\n",
    "    if response < 0:\n",
    "        assert(e in nbe_edges)\n",
    "        continue\n",
    "\n",
    "    else:\n",
    "        assert deltaK > 0\n",
    "        assert(e in be_edges)\n",
    "        if deltaK >= 1: # Can't subtract more than edge weight\n",
    "            edges_notmitigating.append(e)\n",
    "            continue\n",
    "\n",
    "    \n",
    "        T = H.copy()\n",
    "        s,t = e\n",
    "    \n",
    "        T[s][t]['weight'] -= deltaK\n",
    "\n",
    "        Gr_secondcut = AugmentedGraph(T, weight_attr='weight')\n",
    "        stflows_dict_secondcut = steady_flows_dict(Gr_secondcut, I)\n",
    "        stflows_vec_secondcut = steady_flows_vector(Gr_secondcut, I)\n",
    "       \n",
    "        _flow_at_orig_maxflow_edge_now, _orig_maxflow = stflows_dict_secondcut[maxflow_edge], stflows_dict[maxflow_edge]\n",
    "        print(f\"{_flow_at_orig_maxflow_edge_now=}, {_orig_maxflow=}\")\n",
    "        expected_df = response*deltaK\n",
    "        actual_df = _flow_at_orig_maxflow_edge_now - stflows_dict_firstcut[maxflow_edge]\n",
    "        print(f\"{expected_df=}, {actual_df=}\")\n",
    "        \n",
    "\n",
    "        maxflow_secondcut, maxflow_edge_secondcut = compute_maxflow_edge(ag=Gr_secondcut, stflows_dict=stflows_dict_secondcut)\n",
    "        \n",
    "        if abs(maxflow_secondcut) <= abs(maxflow):\n",
    "            edges_mitigating.append(e)\n",
    "            deltaK_to_mitigate.append(deltaK)\n",
    "        else:\n",
    "            assert maxflow_edge_secondcut != maxflow_edge\n",
    "            edges_notmitigating.append(e)"
   ]
  },
  {
   "cell_type": "code",
   "execution_count": 35,
   "metadata": {
    "execution": {
     "iopub.execute_input": "2022-05-25T20:47:24.581499Z",
     "iopub.status.busy": "2022-05-25T20:47:24.581084Z",
     "iopub.status.idle": "2022-05-25T20:47:24.606563Z",
     "shell.execute_reply": "2022-05-25T20:47:24.606130Z",
     "shell.execute_reply.started": "2022-05-25T20:47:24.581463Z"
    },
    "tags": []
   },
   "outputs": [
    {
     "data": {
      "text/plain": [
       "[0.3533151706684177, 0.1926096226777532, 0.34054690723176756]"
      ]
     },
     "execution_count": 35,
     "metadata": {},
     "output_type": "execute_result"
    }
   ],
   "source": [
    "deltaK_to_mitigate"
   ]
  },
  {
   "cell_type": "code",
   "execution_count": 36,
   "metadata": {
    "execution": {
     "iopub.execute_input": "2022-05-25T20:47:24.989659Z",
     "iopub.status.busy": "2022-05-25T20:47:24.989378Z",
     "iopub.status.idle": "2022-05-25T20:47:25.676822Z",
     "shell.execute_reply": "2022-05-25T20:47:25.676337Z",
     "shell.execute_reply.started": "2022-05-25T20:47:24.989634Z"
    },
    "tags": []
   },
   "outputs": [
    {
     "name": "stderr",
     "output_type": "stream",
     "text": [
      "/Users/debsankha.manik/.pyenv/versions/3.8.10/envs/braessrepro/lib/python3.8/site-packages/matplotlib/font_manager.py:1329: UserWarning: findfont: Font family ['sans-serif'] not found. Falling back to DejaVu Sans\n",
      "  warnings.warn(\n"
     ]
    },
    {
     "data": {
      "image/png": "[encoded data removed]",
      "text/plain": [
       "<Figure size 720x720 with 2 Axes>"
      ]
     },
     "metadata": {
      "needs_background": "light"
     },
     "output_type": "display_data"
    }
   ],
   "source": [
    "import nxdraw_helpers as dr\n",
    "fig, ax = plt.subplots(1,1,figsize=(10,10))\n",
    "#dr.draw_networkx_coloured_by_flow(Gr, F, inputs = I, pos= pos, ax = ax)\n",
    "dr.draw_networkx_src_and_sink(G, inputs=I, pos=pos, ax=ax)\n",
    "#flowdict = dr.to_flowdict(F, Gr)\n",
    "dr.draw_edge_arrowheads(G, pos, stflows_dict, ax)\n",
    "\n",
    "\n",
    "_edge_width = 9\n",
    "\n",
    "# draw non-mitigating edges\n",
    "dr.draw_networkx_colored_edges(G, edgelist= edges_notmitigating, colors='xkcd:gold', ax=ax, style=(0, (3,1)),\n",
    "                               pos=pos, with_cbar=False, width=_edge_width)\n",
    "\n",
    "# draw non-braessian edges\n",
    "dr.draw_networkx_colored_edges(G, edgelist=nbe_edges, colors='xkcd:grey', ax=ax, style=(0, (3,1)),\n",
    "                               pos=pos, with_cbar=False, width=_edge_width)\n",
    "\n",
    "\n",
    "# draw how much other edges have to be cut to mitigate\n",
    "dr.draw_networkx_colored_edges(G, edgelist= edges_mitigating, colors=[i for i in deltaK_to_mitigate], ax=ax,\n",
    "                               pos=pos, with_cbar=True, vmin=0, vmax=1, width=_edge_width,\n",
    "                               cmap = plt.get_cmap('RdPu_r'),cbar_label='Amount of damage\\nmitigating overload',\n",
    "                               )\n",
    "\n",
    "# draw maxflow edge\n",
    "dr.draw_networkx_colored_edges(G, edgelist=[maxflow_edge], colors=\"xkcd:sky blue\",\n",
    "                               ax=ax, pos=pos, with_cbar=False, width=_edge_width)\n",
    "\n",
    "# Draw first cut\n",
    "dr.draw_networkx_colored_edges(G, edgelist=[(to_perturb_s, to_perturb_e)],\n",
    "                               colors=\"xkcd:red\", ax=ax, pos=pos,\n",
    "                               with_cbar=False, width=_edge_width)\n",
    "\n",
    "\n",
    "# draw legends\n",
    "proxies = [matplotlib.lines.Line2D([0,1], [0], color='xkcd:sky blue', linewidth=4),\n",
    "           matplotlib.lines.Line2D([0,1], [0], color='xkcd:red', linewidth=4),\n",
    "           matplotlib.lines.Line2D([0,1], [0], color='xkcd:purple', linewidth=4),\n",
    "           matplotlib.lines.Line2D([0,1], [0], color='xkcd:gold', linewidth=4, linestyle=(0, (3,1))),\n",
    "           matplotlib.lines.Line2D([0,1], [0], color='xkcd:grey', linewidth=4, linestyle=(0, (3,1))),\n",
    "          ]\n",
    "\n",
    "descriptions = [\n",
    "    'maximum flow', \n",
    "    'damaged this edge, maxflow increases', \n",
    "    'damaging these Braessian edges mitigate overload\\ncolor shows extent of damage needed',  \n",
    "    'damaging these Braessian edges do not mitigate overload',  \n",
    "    'non-Braessian edges, damaging do not mitigate overload']\n",
    "\n",
    "#ax2 = fig.add_axes([0,0, 1, 0.1])\n",
    "#ax2.axis('off')\n",
    "ax.legend(proxies, descriptions, numpoints=1, markerscale=2, fontsize=20, loc='lower left', \n",
    "          bbox_to_anchor=(0, -0.4), frameon=False\n",
    "         )\n",
    "#fig.subplots_adjust(wspace=0.05, hspace=0.4, right=0.8)\n",
    "#plt.savefig('../manuscript/pics/be-mitigating.pdf', bbox_inches='tight')\n",
    "#ax.set_title(\"Damaging  Baressian edge mitigates\\noverload due to damaging another edge\")\n",
    "fig.savefig('/Users/debsankha.manik/toy-fighting-braess.pdf', bbox_inches='tight')"
   ]
  },
  {
   "cell_type": "code",
   "execution_count": 37,
   "metadata": {
    "execution": {
     "iopub.execute_input": "2022-05-25T20:50:49.556486Z",
     "iopub.status.busy": "2022-05-25T20:50:49.556141Z",
     "iopub.status.idle": "2022-05-25T20:50:49.572722Z",
     "shell.execute_reply": "2022-05-25T20:50:49.572325Z",
     "shell.execute_reply.started": "2022-05-25T20:50:49.556461Z"
    }
   },
   "outputs": [
    {
     "data": {
      "text/plain": [
       "{((0, 0), (1, 0)): -0.0016119834710743592,\n",
       " ((0, 0), (0, 1)): -0.0016119834710743887,\n",
       " ((0, 1), (1, 1)): -0.0013656565656565707,\n",
       " ((0, 1), (0, 2)): -0.006083838383838369,\n",
       " ((0, 2), (1, 2)): 0.0029035123966942166,\n",
       " ((0, 2), (0, 3)): 0.0006413682277318084,\n",
       " ((0, 3), (1, 3)): -0.007922130394857578,\n",
       " ((0, 3), (0, 4)): -0.002841322314049628,\n",
       " ((0, 4), (1, 4)): -0.002841322314049549,\n",
       " ((1, 0), (2, 0)): -0.006554912764003665,\n",
       " ((1, 0), (1, 1)): -0.0016011937557391834,\n",
       " ((1, 1), (2, 1)): -0.01696331496786028,\n",
       " ((1, 1), (1, 2)): -0.016735353535353607,\n",
       " ((1, 2), (2, 2)): -0.07767520661157026,\n",
       " ((1, 2), (1, 3)): 0.013033930211203,\n",
       " ((1, 3), (2, 3)): 0,\n",
       " ((1, 3), (1, 4)): -0.04209706152433408,\n",
       " ((1, 4), (2, 4)): -0.06770849403122148,\n",
       " ((2, 0), (3, 0)): -0.004981221303948632,\n",
       " ((2, 0), (2, 1)): 9.979338842975639e-05,\n",
       " ((2, 1), (3, 1)): -0.010830394857667723,\n",
       " ((2, 1), (2, 2)): 0.004204958677685953,\n",
       " ((2, 2), (3, 2)): -0.001311570247933885,\n",
       " ((2, 2), (2, 3)): -0.059431404958677624,\n",
       " ((2, 3), (3, 3)): 0.023188200183654698,\n",
       " ((2, 3), (2, 4)): -0.025354752066115593,\n",
       " ((2, 4), (3, 4)): -0.005797337006428009,\n",
       " ((3, 0), (4, 0)): -0.00034132231404957315,\n",
       " ((3, 0), (3, 1)): -0.002248576675849401,\n",
       " ((3, 1), (4, 1)): 0.0011687786960514095,\n",
       " ((3, 1), (3, 2)): 0.013033930211202917,\n",
       " ((3, 2), (4, 2)): -0.0002783057851239563,\n",
       " ((3, 2), (3, 3)): -0.025220202020202122,\n",
       " ((3, 3), (4, 3)): -0.0037898989898990545,\n",
       " ((3, 3), (3, 4)): -0.00508604224058764,\n",
       " ((3, 4), (4, 4)): -2.1074380165283522e-05,\n",
       " ((4, 0), (4, 1)): -0.00034132231404958394,\n",
       " ((4, 1), (4, 2)): 0.0018534894398530672,\n",
       " ((4, 2), (4, 3)): -0.0032050505050504803,\n",
       " ((4, 3), (4, 4)): -2.107438016528392e-05}"
      ]
     },
     "execution_count": 37,
     "metadata": {},
     "output_type": "execute_result"
    }
   ],
   "source": [
    "dF"
   ]
  },
  {
   "cell_type": "code",
   "execution_count": 38,
   "metadata": {
    "execution": {
     "iopub.execute_input": "2022-05-25T20:50:56.007118Z",
     "iopub.status.busy": "2022-05-25T20:50:56.006801Z",
     "iopub.status.idle": "2022-05-25T20:50:56.040570Z",
     "shell.execute_reply": "2022-05-25T20:50:56.040078Z",
     "shell.execute_reply.started": "2022-05-25T20:50:56.007093Z"
    }
   },
   "outputs": [
    {
     "data": {
      "text/plain": [
       "{((0, 0), (1, 0)): -0.0016157450408253056,\n",
       " ((0, 0), (0, 1)): -0.0016157450408252605,\n",
       " ((0, 1), (1, 1)): -0.0013602636817507325,\n",
       " ((0, 1), (0, 2)): -0.006079028040385036,\n",
       " ((0, 2), (1, 2)): 0.0028451846808333027,\n",
       " ((0, 2), (0, 3)): 0.0006959527671056301,\n",
       " ((0, 3), (1, 3)): -0.00861607508354955,\n",
       " ((0, 3), (0, 4)): -0.003340101913096673,\n",
       " ((0, 4), (1, 4)): -0.003340101913096488,\n",
       " ((1, 0), (2, 0)): -0.0065929110957515255,\n",
       " ((1, 0), (1, 1)): -0.001617205209433935,\n",
       " ((1, 1), (2, 1)): -0.01706644758648826,\n",
       " ((1, 1), (1, 2)): -0.016922158192546107,\n",
       " ((1, 2), (2, 2)): -0.07824299425065026,\n",
       " ((1, 2), (1, 3)): 0.012627161887913062,\n",
       " ((1, 3), (2, 3)): -0.40165210213995717,\n",
       " ((1, 3), (1, 4)): -0.04728074226343987,\n",
       " ((1, 4), (2, 4)): -0.06504878682100701,\n",
       " ((2, 0), (3, 0)): -0.005020035362328571,\n",
       " ((2, 0), (2, 1)): 9.984274985701795e-05,\n",
       " ((2, 1), (3, 1)): -0.010931217575039174,\n",
       " ((2, 1), (2, 2)): 0.004205707289210405,\n",
       " ((2, 2), (3, 2)): -0.001352092348419019,\n",
       " ((2, 2), (2, 3)): -0.0596588556168955,\n",
       " ((2, 3), (3, 3)): 0.023162746468538928,\n",
       " ((2, 3), (2, 4)): -0.02422290387599568,\n",
       " ((2, 4), (3, 4)): -0.005477604058634585,\n",
       " ((3, 0), (4, 0)): -0.00034590674042635206,\n",
       " ((3, 0), (3, 1)): -0.0022616059645075917,\n",
       " ((3, 1), (4, 1)): 0.001179812388576138,\n",
       " ((3, 1), (3, 2)): 0.013100597194528182,\n",
       " ((3, 2), (4, 2)): -0.00030995730171881657,\n",
       " ((3, 2), (3, 3)): -0.02548234943976442,\n",
       " ((3, 3), (4, 3)): -0.0037791244801096266,\n",
       " ((3, 3), (3, 4)): -0.004884068676469728,\n",
       " ((3, 4), (4, 4)): -1.3687761328264413e-05,\n",
       " ((4, 0), (4, 1)): -0.00034590674042641597,\n",
       " ((4, 1), (4, 2)): 0.0018628013438388652,\n",
       " ((4, 2), (4, 3)): -0.0032677156659142417,\n",
       " ((4, 3), (4, 4)): -1.3687761328265228e-05}"
      ]
     },
     "execution_count": 38,
     "metadata": {},
     "output_type": "execute_result"
    }
   ],
   "source": [
    "dF_firstcut"
   ]
  },
  {
   "cell_type": "code",
   "execution_count": null,
   "metadata": {},
   "outputs": [],
   "source": []
  }
 ],
 "metadata": {
  "kernelspec": {
   "display_name": "Python 3 (ipykernel)",
   "language": "python",
   "name": "python3"
  },
  "language_info": {
   "codemirror_mode": {
    "name": "ipython",
    "version": 3
   },
   "file_extension": ".py",
   "mimetype": "text/x-python",
   "name": "python",
   "nbconvert_exporter": "python",
   "pygments_lexer": "ipython3",
   "version": "3.8.10"
  },
  "latex_envs": {
   "LaTeX_envs_menu_present": true,
   "autoclose": false,
   "autocomplete": true,
   "bibliofile": "biblio.bib",
   "cite_by": "apalike",
   "current_citInitial": 1,
   "eqLabelWithNumbers": true,
   "eqNumInitial": 0,
   "hotkeys": {
    "equation": "Ctrl-E",
    "itemize": "Ctrl-I"
   },
   "labels_anchors": false,
   "latex_user_defs": false,
   "report_style_numbering": false,
   "user_envs_cfg": false
  },
  "nav_menu": {},
  "toc": {
   "nav_menu": {
    "height": "47px",
    "width": "253px"
   },
   "number_sections": true,
   "sideBar": true,
   "skip_h1_title": false,
   "title_cell": "Table of Contents",
   "title_sidebar": "Contents",
   "toc_cell": false,
   "toc_position": {},
   "toc_section_display": "block",
   "toc_window_display": false
  }
 },
 "nbformat": 4,
 "nbformat_minor": 4
}

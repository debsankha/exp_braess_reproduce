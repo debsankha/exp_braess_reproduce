{
 "cells": [
  {
   "cell_type": "markdown",
   "metadata": {},
   "source": [
    "# Set up the problem"
   ]
  },
  {
   "cell_type": "code",
   "execution_count": 1,
   "metadata": {
    "execution": {
     "iopub.execute_input": "2022-05-25T20:33:27.467424Z",
     "iopub.status.busy": "2022-05-25T20:33:27.466721Z",
     "iopub.status.idle": "2022-05-25T20:33:27.480499Z",
     "shell.execute_reply": "2022-05-25T20:33:27.479504Z",
     "shell.execute_reply.started": "2022-05-25T20:33:27.467340Z"
    },
    "tags": []
   },
   "outputs": [],
   "source": [
    "%load_ext autoreload\n",
    "%autoreload 2"
   ]
  },
  {
   "cell_type": "code",
   "execution_count": 2,
   "metadata": {
    "execution": {
     "iopub.execute_input": "2022-05-25T20:33:27.481442Z",
     "iopub.status.busy": "2022-05-25T20:33:27.481357Z",
     "iopub.status.idle": "2022-05-25T20:33:28.099443Z",
     "shell.execute_reply": "2022-05-25T20:33:28.099164Z",
     "shell.execute_reply.started": "2022-05-25T20:33:27.481431Z"
    },
    "tags": []
   },
   "outputs": [],
   "source": [
    "import networkx as nx\n",
    "import numpy as np\n",
    "import matplotlib\n",
    "import seaborn as sns\n",
    "sns.set_style('ticks')\n",
    "matplotlib.rcParams.update(matplotlib.rc_params_from_file('./matplotlibrc'))\n",
    "import matplotlib.pyplot as plt\n",
    "%matplotlib inline\n",
    "matplotlib.rcParams['figure.figsize']=(15,10)\n",
    "matplotlib.rcParams['font.size']=30\n",
    "#matplotlib.rcParams['figure.titlesize']=30\n",
    "matplotlib.rcParams['font.family']='sans-serif'\n",
    "matplotlib.rcParams['font.sans-serif'] = 'libertine'\n",
    "matplotlib.rcParams['text.usetex']=False\n",
    "\n",
    "from flownetpy import LinearFlowNetwork"
   ]
  },
  {
   "cell_type": "code",
   "execution_count": 3,
   "metadata": {
    "execution": {
     "iopub.execute_input": "2022-05-25T20:33:28.100104Z",
     "iopub.status.busy": "2022-05-25T20:33:28.100016Z",
     "iopub.status.idle": "2022-05-25T20:33:28.110779Z",
     "shell.execute_reply": "2022-05-25T20:33:28.110408Z",
     "shell.execute_reply.started": "2022-05-25T20:33:28.100095Z"
    },
    "tags": []
   },
   "outputs": [],
   "source": [
    "import braess_detection"
   ]
  },
  {
   "cell_type": "code",
   "execution_count": 4,
   "metadata": {
    "execution": {
     "iopub.execute_input": "2022-05-25T20:33:28.112566Z",
     "iopub.status.busy": "2022-05-25T20:33:28.112434Z",
     "iopub.status.idle": "2022-05-25T20:33:28.129685Z",
     "shell.execute_reply": "2022-05-25T20:33:28.129407Z",
     "shell.execute_reply.started": "2022-05-25T20:33:28.112545Z"
    },
    "tags": []
   },
   "outputs": [],
   "source": [
    "from braess_detection.braess_tools import steady_flows_vector, steady_flows_dict, maxflow_change_on_each_edge_strengthening, AugmentedGraph\n",
    "import nxdraw_helpers as dr"
   ]
  },
  {
   "cell_type": "code",
   "execution_count": 188,
   "metadata": {
    "execution": {
     "iopub.execute_input": "2022-05-26T11:21:30.159139Z",
     "iopub.status.busy": "2022-05-26T11:21:30.158781Z",
     "iopub.status.idle": "2022-05-26T11:21:30.196730Z",
     "shell.execute_reply": "2022-05-26T11:21:30.196280Z",
     "shell.execute_reply.started": "2022-05-26T11:21:30.159110Z"
    },
    "tags": []
   },
   "outputs": [],
   "source": [
    "N = 5\n",
    "G = nx.grid_2d_graph(N,N)\n",
    "\n",
    "for u,v in G.edges():\n",
    "    G[u][v]['weight'] = 1\n",
    "\n",
    "Gr = AugmentedGraph(G, weight_attr='weight')\n",
    "I = {i:0 for i in Gr.nodes_ordered()}\n",
    "\n",
    "pos = {n:n for n in G.nodes()}\n",
    "\n",
    "# select some sources and some sinks\n",
    "num_srcs = num_sinks = G.number_of_nodes()//8\n",
    "\n",
    "np.random.seed(21)  #6\n",
    "nonboundary_nodes_idx = [idx for (u,v),idx in Gr.nodes2idx.items() if N//8<u<7*N//8 and N//8<v<7*N//8]\n",
    "src_idxs = np.random.choice(nonboundary_nodes_idx, num_srcs, replace=False)\n",
    "sink_idxs = np.random.choice(list(set(nonboundary_nodes_idx) - set(src_idxs)), num_sinks, replace=False)\n",
    "\n",
    "for idx in src_idxs:\n",
    "    I[Gr.idx2nodes[idx]] = 1\n",
    "for idx in sink_idxs:\n",
    "    I[Gr.idx2nodes[idx]] = -1\n"
   ]
  },
  {
   "cell_type": "code",
   "execution_count": 189,
   "metadata": {
    "execution": {
     "iopub.execute_input": "2022-05-26T11:21:30.518861Z",
     "iopub.status.busy": "2022-05-26T11:21:30.518423Z",
     "iopub.status.idle": "2022-05-26T11:21:30.535531Z",
     "shell.execute_reply": "2022-05-26T11:21:30.535017Z",
     "shell.execute_reply.started": "2022-05-26T11:21:30.518833Z"
    },
    "tags": []
   },
   "outputs": [],
   "source": [
    "def compute_maxflow_edge(ag:AugmentedGraph, stflows_dict:dict):\n",
    "    maxflow_idx = np.argmax(np.abs(list(stflows_dict.values())))\n",
    "    maxflow_edge = ag.idx2edges[maxflow_idx]\n",
    "    return stflows_dict[maxflow_edge], maxflow_edge\n",
    "\n",
    "\n",
    "def src_sink(edge, flows:dict): \n",
    "    if flows[edge] > 0:\n",
    "        src, sink = edge\n",
    "    else:\n",
    "        sink, src = edge\n",
    "    return src, sink\n",
    "\n",
    "stflows_dict = steady_flows_dict(Gr, inputs=I)\n",
    "stflows_vec = np.array([stflows_dict[i] for i in Gr.edges_ordered()])\n",
    "maxflow, maxflow_edge = compute_maxflow_edge(ag=Gr, stflows_dict=stflows_dict)\n",
    "\n",
    "maxflow_src, maxflow_sink = src_sink(maxflow_edge, stflows_dict)"
   ]
  },
  {
   "cell_type": "code",
   "execution_count": 190,
   "metadata": {
    "execution": {
     "iopub.execute_input": "2022-05-26T11:21:33.267796Z",
     "iopub.status.busy": "2022-05-26T11:21:33.260496Z",
     "iopub.status.idle": "2022-05-26T11:21:33.287892Z",
     "shell.execute_reply": "2022-05-26T11:21:33.287363Z",
     "shell.execute_reply.started": "2022-05-26T11:21:33.267724Z"
    },
    "tags": []
   },
   "outputs": [],
   "source": [
    "dF = maxflow_change_on_each_edge_strengthening(Gr, stflows_vec, maxflow_src, maxflow_sink)\n",
    "dF[maxflow_edge] = 0\n",
    "\n",
    "\n",
    "be_edges = [e for e,df in dF.items() if df > 0]\n",
    "nbe_edges = [e for e,df in dF.items() if df < 0]"
   ]
  },
  {
   "cell_type": "markdown",
   "metadata": {},
   "source": [
    "## We identify edges that can be used to mitigate a damage."
   ]
  },
  {
   "cell_type": "code",
   "execution_count": 191,
   "metadata": {
    "execution": {
     "iopub.execute_input": "2022-05-26T11:21:34.206977Z",
     "iopub.status.busy": "2022-05-26T11:21:34.206545Z",
     "iopub.status.idle": "2022-05-26T11:21:34.229679Z",
     "shell.execute_reply": "2022-05-26T11:21:34.229263Z",
     "shell.execute_reply.started": "2022-05-26T11:21:34.206936Z"
    },
    "tags": []
   },
   "outputs": [
    {
     "data": {
      "text/plain": [
       "((1, 3), (2, 3))"
      ]
     },
     "execution_count": 191,
     "metadata": {},
     "output_type": "execute_result"
    }
   ],
   "source": [
    "maxflow_src, maxflow_sink"
   ]
  },
  {
   "cell_type": "markdown",
   "metadata": {},
   "source": [
    "### choose a non-braessian edge to damage"
   ]
  },
  {
   "cell_type": "code",
   "execution_count": 192,
   "metadata": {
    "execution": {
     "iopub.execute_input": "2022-05-26T11:21:38.807564Z",
     "iopub.status.busy": "2022-05-26T11:21:38.807214Z",
     "iopub.status.idle": "2022-05-26T11:21:38.834984Z",
     "shell.execute_reply": "2022-05-26T11:21:38.834547Z",
     "shell.execute_reply.started": "2022-05-26T11:21:38.807540Z"
    },
    "tags": []
   },
   "outputs": [],
   "source": [
    "to_perturb_s, to_perturb_e = nbe_edges[np.random.choice(len(nbe_edges))]\n",
    "#to_perturb_s, to_perturb_e = Gr.idx2edges[np.argmin(dF)] # most \"non-braessian edge\"\n",
    "\n",
    "EPS = 0.1\n",
    "# check that the new maxflow is indeed higher\n",
    "H = G.copy()\n",
    "for u,v in H.edges():\n",
    "    H[u][v]['weight'] = 1\n",
    "H[to_perturb_s][to_perturb_e]['weight'] -= EPS"
   ]
  },
  {
   "cell_type": "code",
   "execution_count": 193,
   "metadata": {
    "execution": {
     "iopub.execute_input": "2022-05-26T11:21:47.067319Z",
     "iopub.status.busy": "2022-05-26T11:21:47.067171Z",
     "iopub.status.idle": "2022-05-26T11:21:47.078713Z",
     "shell.execute_reply": "2022-05-26T11:21:47.078254Z",
     "shell.execute_reply.started": "2022-05-26T11:21:47.067307Z"
    },
    "tags": []
   },
   "outputs": [
    {
     "data": {
      "text/plain": [
       "((1, 4), (1, 3), ((1, 3), (2, 3)))"
      ]
     },
     "execution_count": 193,
     "metadata": {},
     "output_type": "execute_result"
    }
   ],
   "source": [
    "to_perturb_e, to_perturb_s, maxflow_edge"
   ]
  },
  {
   "cell_type": "code",
   "execution_count": 194,
   "metadata": {
    "execution": {
     "iopub.execute_input": "2022-05-26T11:21:47.562918Z",
     "iopub.status.busy": "2022-05-26T11:21:47.562749Z",
     "iopub.status.idle": "2022-05-26T11:21:47.574530Z",
     "shell.execute_reply": "2022-05-26T11:21:47.574095Z",
     "shell.execute_reply.started": "2022-05-26T11:21:47.562894Z"
    },
    "tags": []
   },
   "outputs": [
    {
     "data": {
      "text/plain": [
       "{'weight': 0.9}"
      ]
     },
     "execution_count": 194,
     "metadata": {},
     "output_type": "execute_result"
    }
   ],
   "source": [
    "H[to_perturb_e][to_perturb_s]"
   ]
  },
  {
   "cell_type": "code",
   "execution_count": 195,
   "metadata": {
    "execution": {
     "iopub.execute_input": "2022-05-26T11:21:49.995115Z",
     "iopub.status.busy": "2022-05-26T11:21:49.994929Z",
     "iopub.status.idle": "2022-05-26T11:21:50.007908Z",
     "shell.execute_reply": "2022-05-26T11:21:50.007331Z",
     "shell.execute_reply.started": "2022-05-26T11:21:49.995094Z"
    },
    "tags": []
   },
   "outputs": [],
   "source": [
    "Gr_firstcut = AugmentedGraph(H, weight_attr='weight')\n",
    "stflows_dict_firstcut = steady_flows_dict(Gr_firstcut, I)\n",
    "stflows_vec_firstcut = steady_flows_vector(Gr_firstcut, I)\n",
    "\n",
    "maxflow_firstcut, maxflow_edge_firstcut = compute_maxflow_edge(ag=Gr_firstcut, stflows_dict=stflows_dict_firstcut)\n",
    "assert maxflow_edge_firstcut == maxflow_edge, \"the maximum flow is no longer across the same edge\"\n",
    "assert abs(maxflow_firstcut) > abs(maxflow)"
   ]
  },
  {
   "cell_type": "code",
   "execution_count": 196,
   "metadata": {
    "execution": {
     "iopub.execute_input": "2022-05-26T11:21:51.379135Z",
     "iopub.status.busy": "2022-05-26T11:21:51.378724Z",
     "iopub.status.idle": "2022-05-26T11:21:51.406041Z",
     "shell.execute_reply": "2022-05-26T11:21:51.405524Z",
     "shell.execute_reply.started": "2022-05-26T11:21:51.379108Z"
    },
    "tags": []
   },
   "outputs": [
    {
     "data": {
      "text/plain": [
       "array([ 0.0034322 , -0.0034322 ,  0.00258116, -0.00601336, -0.00167378,\n",
       "       -0.00433957, -0.00225665, -0.00208292, -0.00208292,  0.00771545,\n",
       "       -0.00428325,  0.00856621, -0.0102683 , -0.00701964, -0.00492244,\n",
       "       -0.00546082, -0.00171827, -0.00380119,  0.01114794, -0.00343249,\n",
       "        0.03098786, -0.02585415, -0.02951016, -0.00336362, -0.00857488,\n",
       "       -0.00024956, -0.00405075, -0.00525949,  0.01640743, -0.0269264 ,\n",
       "        0.07432169,  0.02723987,  0.01757166,  0.0047222 ,  0.00427457,\n",
       "        0.00022382, -0.00525949, -0.03218589, -0.00494602, -0.00022382])"
      ]
     },
     "execution_count": 196,
     "metadata": {},
     "output_type": "execute_result"
    }
   ],
   "source": [
    "stflows_vec_secondcut - stflows_vec_firstcut"
   ]
  },
  {
   "cell_type": "code",
   "execution_count": 14,
   "metadata": {
    "execution": {
     "iopub.execute_input": "2022-05-25T20:33:28.251339Z",
     "iopub.status.busy": "2022-05-25T20:33:28.251262Z",
     "iopub.status.idle": "2022-05-25T20:33:28.262965Z",
     "shell.execute_reply": "2022-05-25T20:33:28.262619Z",
     "shell.execute_reply.started": "2022-05-25T20:33:28.251330Z"
    },
    "tags": []
   },
   "outputs": [],
   "source": [
    "dF_firstcut = maxflow_change_on_each_edge_strengthening(Gr_firstcut, stflows_vec_firstcut, maxflow_src, maxflow_sink)"
   ]
  },
  {
   "cell_type": "markdown",
   "metadata": {},
   "source": [
    "### What happens now if each breassian edges are damaged as well?"
   ]
  },
  {
   "cell_type": "markdown",
   "metadata": {},
   "source": [
    "### A bruteforce exact solver"
   ]
  },
  {
   "cell_type": "code",
   "execution_count": 197,
   "metadata": {
    "execution": {
     "iopub.execute_input": "2022-05-26T11:21:55.518820Z",
     "iopub.status.busy": "2022-05-26T11:21:55.518495Z",
     "iopub.status.idle": "2022-05-26T11:21:55.556143Z",
     "shell.execute_reply": "2022-05-26T11:21:55.555705Z",
     "shell.execute_reply.started": "2022-05-26T11:21:55.518795Z"
    },
    "tags": []
   },
   "outputs": [],
   "source": [
    "def maxflow_with_noninfinitesimal_delta(G:nx.Graph, edge_to_perturb, deltaK, inputs):\n",
    "    T = G.copy()\n",
    "    s,t = edge_to_perturb\n",
    "    assert 'weight' in T[s][t]\n",
    "    T[s][t]['weight'] += deltaK\n",
    "\n",
    "    Gr = AugmentedGraph(T, weight_attr='weight')\n",
    "    stflows_dict = steady_flows_dict(Gr, inputs)\n",
    "    \n",
    "    return max(np.abs([i for i in stflows_dict.values()]))"
   ]
  },
  {
   "cell_type": "code",
   "execution_count": 198,
   "metadata": {
    "execution": {
     "iopub.execute_input": "2022-05-26T11:21:55.790672Z",
     "iopub.status.busy": "2022-05-26T11:21:55.790331Z",
     "iopub.status.idle": "2022-05-26T11:21:55.817495Z",
     "shell.execute_reply": "2022-05-26T11:21:55.816637Z",
     "shell.execute_reply.started": "2022-05-26T11:21:55.790618Z"
    },
    "tags": []
   },
   "outputs": [],
   "source": [
    "assert np.isclose(maxflow_with_noninfinitesimal_delta(G, edge_to_perturb=((0,0), (0,1)), deltaK=0, inputs=I), maxflow)"
   ]
  },
  {
   "cell_type": "code",
   "execution_count": 199,
   "metadata": {
    "execution": {
     "iopub.execute_input": "2022-05-26T11:21:56.118436Z",
     "iopub.status.busy": "2022-05-26T11:21:56.118151Z",
     "iopub.status.idle": "2022-05-26T11:21:56.397156Z",
     "shell.execute_reply": "2022-05-26T11:21:56.396785Z",
     "shell.execute_reply.started": "2022-05-26T11:21:56.118421Z"
    },
    "tags": []
   },
   "outputs": [
    {
     "data": {
      "text/plain": [
       "[<matplotlib.lines.Line2D at 0x16e258c70>]"
      ]
     },
     "execution_count": 199,
     "metadata": {},
     "output_type": "execute_result"
    },
    {
     "name": "stderr",
     "output_type": "stream",
     "text": [
      "/Users/debsankha.manik/.pyenv/versions/3.8.10/envs/braessrepro/lib/python3.8/site-packages/matplotlib/font_manager.py:1329: UserWarning: findfont: Font family ['sans-serif'] not found. Falling back to DejaVu Sans\n",
      "  warnings.warn(\n"
     ]
    },
    {
     "data": {
      "image/png": "[encoded data removed]",
      "text/plain": [
       "<Figure size 864x504 with 1 Axes>"
      ]
     },
     "metadata": {
      "needs_background": "light"
     },
     "output_type": "display_data"
    }
   ],
   "source": [
    "fig, ax = plt.subplots(figsize=(12,7))\n",
    "\n",
    "x = np.linspace(0,1,100)\n",
    "y = [maxflow_with_noninfinitesimal_delta(G, edge_to_perturb=((0,0), (0,1)), deltaK=i, inputs=I) for i in x]\n",
    "\n",
    "ax.plot(x,y)"
   ]
  },
  {
   "cell_type": "code",
   "execution_count": 225,
   "metadata": {
    "execution": {
     "iopub.execute_input": "2022-05-26T11:36:20.487598Z",
     "iopub.status.busy": "2022-05-26T11:36:20.487317Z",
     "iopub.status.idle": "2022-05-26T11:36:23.582015Z",
     "shell.execute_reply": "2022-05-26T11:36:23.581582Z",
     "shell.execute_reply.started": "2022-05-26T11:36:20.487574Z"
    },
    "tags": []
   },
   "outputs": [],
   "source": [
    "deltaK_to_mitigate = []\n",
    "edges_mitigating = []\n",
    "edges_notmitigating_nonbraess = []\n",
    "edges_notmitigating_braess = []\n",
    "\n",
    "orig_abs_maxflow = abs(maxflow)\n",
    "deltaK_arr = np.linspace(-1,0,100)\n",
    "\n",
    "for e in Gr_firstcut.edges_ordered():\n",
    "    if e == maxflow_edge:\n",
    "        continue\n",
    "   \n",
    "    maxflow_arr = np.array([maxflow_with_noninfinitesimal_delta(H, edge_to_perturb=e, deltaK=deltaK, inputs=I) for deltaK in deltaK_arr])\n",
    "    \n",
    "    if min(maxflow_arr) < maxflow:\n",
    "        edges_mitigating.append(e)\n",
    "        deltaK_needed = deltaK_arr[np.flatnonzero(maxflow_arr < maxflow)[-1]]\n",
    "        deltaK_to_mitigate.append(-deltaK_needed)\n",
    "        assert e in be_edges\n",
    "    else:\n",
    "        if e in be_edges:\n",
    "            edges_notmitigating_braess.append(e)\n",
    "        else:\n",
    "            edges_notmitigating_nonbraess.append(e)"
   ]
  },
  {
   "cell_type": "code",
   "execution_count": 245,
   "metadata": {
    "execution": {
     "iopub.execute_input": "2022-05-26T11:48:04.234322Z",
     "iopub.status.busy": "2022-05-26T11:48:04.233859Z",
     "iopub.status.idle": "2022-05-26T11:48:04.920067Z",
     "shell.execute_reply": "2022-05-26T11:48:04.919698Z",
     "shell.execute_reply.started": "2022-05-26T11:48:04.234284Z"
    },
    "tags": []
   },
   "outputs": [
    {
     "name": "stderr",
     "output_type": "stream",
     "text": [
      "/Users/debsankha.manik/.pyenv/versions/3.8.10/envs/braessrepro/lib/python3.8/site-packages/matplotlib/font_manager.py:1329: UserWarning: findfont: Font family ['sans-serif'] not found. Falling back to DejaVu Sans\n",
      "  warnings.warn(\n"
     ]
    },
    {
     "data": {
      "image/png": "[encoded data removed]",
      "text/plain": [
       "<Figure size 720x720 with 2 Axes>"
      ]
     },
     "metadata": {
      "needs_background": "light"
     },
     "output_type": "display_data"
    }
   ],
   "source": [
    "import nxdraw_helpers as dr\n",
    "fig, ax = plt.subplots(1,1,figsize=(10,10))\n",
    "#dr.draw_networkx_coloured_by_flow(Gr, F, inputs = I, pos= pos, ax = ax)\n",
    "dr.draw_networkx_src_and_sink(G, inputs=I, pos=pos, ax=ax)\n",
    "#flowdict = dr.to_flowdict(F, Gr)\n",
    "dr.draw_edge_arrowheads(G, pos, stflows_dict, ax)\n",
    "\n",
    "\n",
    "_edge_width = 9\n",
    "edge_cmap = sns.cubehelix_palette(start=0, rot=-.5, dark=0.5, as_cmap=True)\n",
    "\n",
    "# draw non-mitigating edges\n",
    "dr.draw_networkx_colored_edges(G, edgelist= edges_notmitigating_braess, colors='xkcd:gold', ax=ax, style=(0, (3,1)),\n",
    "                               pos=pos, with_cbar=False, width=_edge_width)\n",
    "\n",
    "# draw non-braessian edges\n",
    "dr.draw_networkx_colored_edges(G, edgelist=edges_notmitigating_nonbraess, colors='xkcd:grey', ax=ax, style=(0, (3,1)),\n",
    "                               pos=pos, with_cbar=False, width=_edge_width)\n",
    "\n",
    "\n",
    "# draw how much other edges have to be cut to mitigate\n",
    "dr.draw_networkx_colored_edges(G, edgelist= edges_mitigating, colors=[i for i in deltaK_to_mitigate], ax=ax,\n",
    "                               pos=pos, with_cbar=True, vmin=0, vmax=1, width=_edge_width,\n",
    "                               cmap=edge_cmap, cbar_label='Amount of damage\\nmitigating overload',\n",
    "                               )\n",
    "\n",
    "# draw maxflow edge\n",
    "dr.draw_networkx_colored_edges(G, edgelist=[maxflow_edge], colors=\"xkcd:sky blue\",\n",
    "                               ax=ax, pos=pos, with_cbar=False, width=_edge_width)\n",
    "\n",
    "# Draw first cut\n",
    "dr.draw_networkx_colored_edges(G, edgelist=[(to_perturb_s, to_perturb_e)],\n",
    "                               colors=\"xkcd:red\", ax=ax, pos=pos,\n",
    "                               with_cbar=False, width=_edge_width)\n",
    "\n",
    "\n",
    "# draw legends\n",
    "proxies = [matplotlib.lines.Line2D([0,1], [0], color='xkcd:sky blue', linewidth=4),\n",
    "           matplotlib.lines.Line2D([0,1], [0], color='xkcd:red', linewidth=4),\n",
    "           matplotlib.lines.Line2D([0,1], [0], color=edge_cmap.colors[len(edge_cmap.colors)//2], linewidth=4),\n",
    "           matplotlib.lines.Line2D([0,1], [0], color='xkcd:gold', linewidth=4, linestyle=(0, (3,1))),\n",
    "           matplotlib.lines.Line2D([0,1], [0], color='xkcd:grey', linewidth=4, linestyle=(0, (3,1))),\n",
    "          ]\n",
    "\n",
    "descriptions = [\n",
    "    'maximum flow', \n",
    "    'damaged this edge, maxflow increases', \n",
    "    'damaging these Braessian edges mitigate overload\\ncolor shows extent of damage needed',  \n",
    "    'damaging these Braessian edges do not mitigate overload',  \n",
    "    'non-Braessian edges, damaging do not mitigate overload']\n",
    "\n",
    "#ax2 = fig.add_axes([0,0, 1, 0.1])\n",
    "#ax2.axis('off')\n",
    "ax.legend(proxies, descriptions, numpoints=1, markerscale=2, fontsize=20, loc='lower left', \n",
    "          bbox_to_anchor=(0, -0.4), frameon=False\n",
    "         )\n",
    "#fig.subplots_adjust(wspace=0.05, hspace=0.4, right=0.8)\n",
    "#plt.savefig('../manuscript/pics/be-mitigating.pdf', bbox_inches='tight')\n",
    "#ax.set_title(\"Damaging  Baressian edge mitigates\\noverload due to damaging another edge\")\n",
    "fig.savefig('/Users/debsankha.manik/toy-fighting-braess.pdf', bbox_inches='tight')"
   ]
  }
 ],
 "metadata": {
  "kernelspec": {
   "display_name": "Python 3 (ipykernel)",
   "language": "python",
   "name": "python3"
  },
  "language_info": {
   "codemirror_mode": {
    "name": "ipython",
    "version": 3
   },
   "file_extension": ".py",
   "mimetype": "text/x-python",
   "name": "python",
   "nbconvert_exporter": "python",
   "pygments_lexer": "ipython3",
   "version": "3.8.10"
  },
  "latex_envs": {
   "LaTeX_envs_menu_present": true,
   "autoclose": false,
   "autocomplete": true,
   "bibliofile": "biblio.bib",
   "cite_by": "apalike",
   "current_citInitial": 1,
   "eqLabelWithNumbers": true,
   "eqNumInitial": 0,
   "hotkeys": {
    "equation": "Ctrl-E",
    "itemize": "Ctrl-I"
   },
   "labels_anchors": false,
   "latex_user_defs": false,
   "report_style_numbering": false,
   "user_envs_cfg": false
  },
  "nav_menu": {},
  "toc": {
   "nav_menu": {
    "height": "47px",
    "width": "253px"
   },
   "number_sections": true,
   "sideBar": true,
   "skip_h1_title": false,
   "title_cell": "Table of Contents",
   "title_sidebar": "Contents",
   "toc_cell": false,
   "toc_position": {},
   "toc_section_display": "block",
   "toc_window_display": false
  }
 },
 "nbformat": 4,
 "nbformat_minor": 4
}

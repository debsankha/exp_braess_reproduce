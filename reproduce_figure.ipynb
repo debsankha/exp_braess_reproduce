{
 "cells": [
  {
   "cell_type": "code",
   "execution_count": 1,
   "metadata": {
    "execution": {
     "iopub.execute_input": "2022-03-04T14:00:48.449593Z",
     "iopub.status.busy": "2022-03-04T14:00:48.449114Z",
     "iopub.status.idle": "2022-03-04T14:00:49.422538Z",
     "shell.execute_reply": "2022-03-04T14:00:49.422291Z",
     "shell.execute_reply.started": "2022-03-04T14:00:48.449499Z"
    },
    "tags": []
   },
   "outputs": [],
   "source": [
    "from importlib import reload\n",
    "%load_ext autoreload\n",
    "%autoreload 2\n",
    "import networkx as nx\n",
    "import numpy as np\n",
    "import pandas as pd\n",
    "import matplotlib\n",
    "import seaborn as sns\n",
    "sns.set_style('ticks')\n",
    "matplotlib.rcParams.update(matplotlib.rc_params_from_file('./matplotlibrc'))\n",
    "import matplotlib.pyplot as plt\n",
    "%matplotlib inline\n",
    "matplotlib.rcParams['figure.figsize']=(15,10)\n",
    "matplotlib.rcParams['font.size']=15\n",
    "\n",
    "#matplotlib.rcParams['font.family']='sans-serif'\n",
    "#matplotlib.rcParams['font.sans-serif'] = 'Lado'\n",
    "matplotlib.rcParams['text.usetex']=True\n",
    "#matplotlib.rcParams['figure.titlesize']=30"
   ]
  },
  {
   "cell_type": "markdown",
   "metadata": {},
   "source": [
    "## First the edge distance "
   ]
  },
  {
   "cell_type": "code",
   "execution_count": 2,
   "metadata": {
    "execution": {
     "iopub.execute_input": "2022-03-04T14:00:49.422985Z",
     "iopub.status.busy": "2022-03-04T14:00:49.422917Z",
     "iopub.status.idle": "2022-03-04T14:00:49.435907Z",
     "shell.execute_reply": "2022-03-04T14:00:49.435648Z",
     "shell.execute_reply.started": "2022-03-04T14:00:49.422977Z"
    },
    "tags": []
   },
   "outputs": [
    {
     "data": {
      "text/plain": [
       "0.0001"
      ]
     },
     "execution_count": 2,
     "metadata": {},
     "output_type": "execute_result"
    }
   ],
   "source": [
    "1e-5*10"
   ]
  },
  {
   "cell_type": "code",
   "execution_count": 3,
   "metadata": {
    "execution": {
     "iopub.execute_input": "2022-03-04T14:00:49.437180Z",
     "iopub.status.busy": "2022-03-04T14:00:49.437086Z",
     "iopub.status.idle": "2022-03-04T14:00:49.453669Z",
     "shell.execute_reply": "2022-03-04T14:00:49.453365Z",
     "shell.execute_reply.started": "2022-03-04T14:00:49.437171Z"
    },
    "tags": []
   },
   "outputs": [],
   "source": [
    "def barchart_multiple_graphtypes(datasets, graph_types, thres=10e-5):\n",
    "    all_data = None\n",
    "    for data, graph_type in zip(datasets, graph_types):\n",
    "        #df = pd.DataFrame(data, columns = ('dist', 'BE', 'aligned', 'seed'), dtype=\"Int\")\n",
    "        df = data\n",
    "        df = df[df[\"susc\"].abs() > thres]\n",
    "        df = df[df['aligned'] != 'bridge']\n",
    "        \n",
    "        if df[\"aligned\"].dtype ==\"O\":\n",
    "            df[\"aligned\"] = df[\"aligned\"].map({\"True\": 1, \"False\":0, \"cant_say\": None}).astype(float)\n",
    "        \n",
    "        \n",
    "        df.loc[:, 'BE, aligned'] = (df['susc']>thres) & (df['aligned']==1)\n",
    "        df.loc[:, 'not BE, aligned'] = (df['susc']<thres) & (df['aligned']==1)\n",
    "\n",
    "        df.loc[:, 'BE, anti-aligned'] = (df['susc']>thres) & (df['aligned']==0)\n",
    "        df.loc[:, 'not BE, anti-aligned'] = (df['susc']<thres) & (df['aligned']==0)\n",
    "    #    df.loc[:, 'no effect, anti-aligned'] = (df['BE']==-1) & (df['aligned']==0)\n",
    "\n",
    "        df.loc[:, 'True predictions'] = (df['BE, aligned']==1) | (df['not BE, anti-aligned']==1)\n",
    "        df.loc[:, 'False predictions'] = (df['BE, anti-aligned']==1) | (df['not BE, aligned']==1)\n",
    "        df.loc[:, 'Alignment undefined'] = pd.isna(df['aligned'])\n",
    "\n",
    "\n",
    "        # now all dists\n",
    "        gr = (df.groupby('seed').agg('sum')/df.groupby('seed').agg('count')).reset_index()\n",
    "        wide_df = gr[['seed', 'True predictions', 'False predictions','Alignment undefined']]\n",
    "        long_df = pd.melt(wide_df, id_vars = ['seed'], value_vars=['True predictions', 'False predictions',  'Alignment undefined'], value_name = 'Fraction of edges')\n",
    "        long_df.loc[:, 'graph_type'] = graph_type\n",
    "        \n",
    "        if all_data is None:\n",
    "            all_data = long_df\n",
    "        else:\n",
    "            all_data = pd.concat([all_data, long_df])\n",
    "        \n",
    "        \n",
    "\n",
    "    pl = sns.factorplot(x=\"variable\", y=\"Fraction of edges\", data=all_data, kind = 'bar',\n",
    "                        hue='graph_type', size = 6, aspect = 1.5, ci = 'sd',\\\n",
    "                        units='seed', legend_out = False, linewidth=2, edgecolor='w', \n",
    "                        capsize=0.04)\n",
    "    #pl.set_xticklabels(rotation=30)\n",
    "\n",
    "    l = pl.axes[0,0].legend_\n",
    "    l.set_title('Graph type')\n",
    "    l.get_title().set_fontsize(20)\n",
    "    for t in l.get_texts():\n",
    "        t.set_fontsize('20')\n",
    "\n",
    "    ax_orig = pl.axes[0,0]\n",
    "#    ax_orig.set_xticklabels(ax_orig.get_xticklabels(), rotation=0, ha='right')\n",
    "\n",
    "\n",
    "    ax_orig.set_ylim(0, 1.001)\n",
    "    ax_orig.set_xlabel('')\n",
    "\n",
    "\n",
    "    sns.despine(top=False, right=False)\n",
    "    return pl, all_data"
   ]
  },
  {
   "cell_type": "code",
   "execution_count": 16,
   "metadata": {
    "execution": {
     "iopub.execute_input": "2022-03-13T11:08:39.445293Z",
     "iopub.status.busy": "2022-03-13T11:08:39.444609Z",
     "iopub.status.idle": "2022-03-13T11:08:39.475458Z",
     "shell.execute_reply": "2022-03-13T11:08:39.475133Z",
     "shell.execute_reply.started": "2022-03-13T11:08:39.445243Z"
    },
    "tags": []
   },
   "outputs": [],
   "source": [
    "#matplotlib.rcParams['font.family']='sans-serif'\n",
    "#matplotlib.rcParams['font.sans-serif'] = 'Lado'\n",
    "\n",
    "matplotlib.rcParams['font.size']=10\n",
    "plt.rcParams['xtick.labelsize'] = 15\n",
    "plt.rcParams['ytick.labelsize'] = 15\n",
    "plt.rcParams['xtick.major.size'] = 10\n",
    "plt.rcParams['ytick.major.size'] = 10\n",
    "plt.rcParams['xtick.minor.size'] = 10\n",
    "plt.rcParams['ytick.minor.size'] = 10\n",
    "plt.rcParams['xtick.major.width'] = 1\n",
    "plt.rcParams['ytick.major.width'] = 1\n",
    "plt.rcParams['xtick.minor.width'] = 1\n",
    "plt.rcParams['ytick.minor.width'] = 1\n",
    "plt.rcParams['xtick.direction'] = 'in'\n",
    "plt.rcParams['ytick.direction'] = 'in'\n",
    "plt.rcParams['lines.linewidth'] = 2\n",
    "plt.rcParams['lines.markeredgewidth'] = 1\n",
    "plt.rcParams['lines.markersize'] = 14\n",
    "\n",
    "plt.rcParams['errorbar.capsize'] = 9\n",
    "plt.rcParams['text.usetex'] = True\n",
    "plt.rcParams['axes.labelsize'] = 25"
   ]
  },
  {
   "cell_type": "code",
   "execution_count": 17,
   "metadata": {
    "execution": {
     "iopub.execute_input": "2022-03-13T11:08:39.976648Z",
     "iopub.status.busy": "2022-03-13T11:08:39.975792Z",
     "iopub.status.idle": "2022-03-13T11:08:40.105122Z",
     "shell.execute_reply": "2022-03-13T11:08:40.104880Z",
     "shell.execute_reply.started": "2022-03-13T11:08:39.976589Z"
    },
    "tags": []
   },
   "outputs": [],
   "source": [
    "import pandas as pd\n",
    "voronoi_data = pd.read_csv('../data/voronoi.csv')\n",
    "lattice_data = pd.read_csv('../data/lattice.csv')\n",
    "ieee300_data = pd.read_csv('../data/ieee300.csv')\n",
    "randomgrid_data = pd.read_csv('../data/random_grid.csv')"
   ]
  },
  {
   "cell_type": "code",
   "execution_count": 18,
   "metadata": {
    "execution": {
     "iopub.execute_input": "2022-03-13T11:08:40.412292Z",
     "iopub.status.busy": "2022-03-13T11:08:40.411676Z",
     "iopub.status.idle": "2022-03-13T11:08:40.577758Z",
     "shell.execute_reply": "2022-03-13T11:08:40.576838Z",
     "shell.execute_reply.started": "2022-03-13T11:08:40.412247Z"
    },
    "tags": []
   },
   "outputs": [
    {
     "name": "stdout",
     "output_type": "stream",
     "text": [
      "total 30048\n",
      "drwxr-xr-x  20 debsankha.manik  staff      640 Feb 15 21:29 \u001b[34m..\u001b[m\u001b[m\n",
      "drwxr-xr-x   7 debsankha.manik  staff      224 Feb 17 00:20 \u001b[34m.\u001b[m\u001b[m\n",
      "drwxr-xr-x   6 debsankha.manik  staff      192 Feb 27 16:39 \u001b[34mieee300\u001b[m\u001b[m\n",
      "-rw-r--r--   1 debsankha.manik  staff   188031 Mar  2 22:29 voronoi.csv\n",
      "-rw-r--r--   1 debsankha.manik  staff  2097321 Mar  2 22:30 ieee300.csv\n",
      "-rw-r--r--   1 debsankha.manik  staff  9189850 Mar  2 22:43 lattice.csv\n",
      "-rw-r--r--   1 debsankha.manik  staff  3896451 Mar  2 22:55 random_grid.csv\n"
     ]
    }
   ],
   "source": [
    "!ls -altr ../data/"
   ]
  },
  {
   "cell_type": "code",
   "execution_count": 19,
   "metadata": {
    "execution": {
     "iopub.execute_input": "2022-03-13T11:08:41.094681Z",
     "iopub.status.busy": "2022-03-13T11:08:41.093911Z",
     "iopub.status.idle": "2022-03-13T11:08:41.130296Z",
     "shell.execute_reply": "2022-03-13T11:08:41.129780Z",
     "shell.execute_reply.started": "2022-03-13T11:08:41.094624Z"
    },
    "tags": []
   },
   "outputs": [
    {
     "data": {
      "text/plain": [
       "{'False', 'True', 'bridge', 'cant_say'}"
      ]
     },
     "execution_count": 19,
     "metadata": {},
     "output_type": "execute_result"
    }
   ],
   "source": [
    "set(ieee300_data[\"aligned\"])"
   ]
  },
  {
   "cell_type": "code",
   "execution_count": 20,
   "metadata": {
    "execution": {
     "iopub.execute_input": "2022-03-13T11:08:43.488152Z",
     "iopub.status.busy": "2022-03-13T11:08:43.487467Z",
     "iopub.status.idle": "2022-03-13T11:08:43.931439Z",
     "shell.execute_reply": "2022-03-13T11:08:43.931157Z",
     "shell.execute_reply.started": "2022-03-13T11:08:43.488098Z"
    },
    "tags": []
   },
   "outputs": [
    {
     "name": "stderr",
     "output_type": "stream",
     "text": [
      "/Users/debsankha.manik/.pyenv/versions/3.8.10/envs/braess/lib/python3.8/site-packages/seaborn/categorical.py:3717: UserWarning: The `factorplot` function has been renamed to `catplot`. The original name will be removed in a future release. Please update your code. Note that the default `kind` in `factorplot` (`'point'`) has changed `'strip'` in `catplot`.\n",
      "  warnings.warn(msg)\n",
      "/Users/debsankha.manik/.pyenv/versions/3.8.10/envs/braess/lib/python3.8/site-packages/seaborn/categorical.py:3723: UserWarning: The `size` parameter has been renamed to `height`; please update your code.\n",
      "  warnings.warn(msg, UserWarning)\n"
     ]
    },
    {
     "data": {
      "image/png": "[encoded data removed]",
      "text/plain": [
       "<Figure size 540x360 with 1 Axes>"
      ]
     },
     "metadata": {
      "needs_background": "light"
     },
     "output_type": "display_data"
    }
   ],
   "source": [
    "with sns.color_palette(\"Dark2\"):\n",
    "\n",
    "    pl, data_for_it = barchart_multiple_graphtypes([voronoi_data,\n",
    "                                                    lattice_data,\n",
    "                                                    ieee300_data,\n",
    "                                                    randomgrid_data,\n",
    "                                                   ], \n",
    "                                                   graph_types=[\n",
    "                                                                'lattice',\n",
    "                                                                'voronoi',\n",
    "                                                                'ieee300',\n",
    "                                                                'randomgrid'\n",
    "                                                               ]\n",
    "                                                  )\n",
    "pl.fig.set_size_inches(7.5, 5)\n",
    "\n",
    "pl.fig.axes[0].yaxis.set_tick_params(labelsize=20)\n",
    "pl.fig.axes[0].xaxis.set_tick_params(labelsize=20)\n",
    "\n",
    "pl.savefig('../clone_overleaf/pics/crerouting-heuristic-classifier-barchart-four-topo-nodist.pdf')\n",
    "pl.savefig('../manuscript/pics/crerouting-heuristic-classifier-barchart-four-topo-nodist.svg')\n",
    "pl.savefig('../manuscript/pics/crerouting-heuristic-classifier-barchart-four-topo-nodist.png')"
   ]
  },
  {
   "cell_type": "code",
   "execution_count": 26,
   "metadata": {
    "execution": {
     "iopub.execute_input": "2022-03-13T11:22:54.824838Z",
     "iopub.status.busy": "2022-03-13T11:22:54.824470Z",
     "iopub.status.idle": "2022-03-13T11:22:54.872584Z",
     "shell.execute_reply": "2022-03-13T11:22:54.872352Z",
     "shell.execute_reply.started": "2022-03-13T11:22:54.824809Z"
    },
    "tags": []
   },
   "outputs": [
    {
     "data": {
      "text/html": [
       "<div>\n",
       "<style scoped>\n",
       "    .dataframe tbody tr th:only-of-type {\n",
       "        vertical-align: middle;\n",
       "    }\n",
       "\n",
       "    .dataframe tbody tr th {\n",
       "        vertical-align: top;\n",
       "    }\n",
       "\n",
       "    .dataframe thead th {\n",
       "        text-align: right;\n",
       "    }\n",
       "</style>\n",
       "<table border=\"1\" class=\"dataframe\">\n",
       "  <thead>\n",
       "    <tr style=\"text-align: right;\">\n",
       "      <th></th>\n",
       "      <th></th>\n",
       "      <th>count</th>\n",
       "      <th>mean</th>\n",
       "      <th>std</th>\n",
       "      <th>min</th>\n",
       "      <th>25%</th>\n",
       "      <th>50%</th>\n",
       "      <th>75%</th>\n",
       "      <th>max</th>\n",
       "    </tr>\n",
       "    <tr>\n",
       "      <th>graph_type</th>\n",
       "      <th>variable</th>\n",
       "      <th></th>\n",
       "      <th></th>\n",
       "      <th></th>\n",
       "      <th></th>\n",
       "      <th></th>\n",
       "      <th></th>\n",
       "      <th></th>\n",
       "      <th></th>\n",
       "    </tr>\n",
       "  </thead>\n",
       "  <tbody>\n",
       "    <tr>\n",
       "      <th rowspan=\"3\" valign=\"top\">ieee300</th>\n",
       "      <th>Alignment undefined</th>\n",
       "      <td>100.0</td>\n",
       "      <td>0.168023</td>\n",
       "      <td>0.086679</td>\n",
       "      <td>0.067568</td>\n",
       "      <td>0.106195</td>\n",
       "      <td>0.140941</td>\n",
       "      <td>0.164570</td>\n",
       "      <td>0.390000</td>\n",
       "    </tr>\n",
       "    <tr>\n",
       "      <th>False predictions</th>\n",
       "      <td>100.0</td>\n",
       "      <td>0.108807</td>\n",
       "      <td>0.049071</td>\n",
       "      <td>0.000000</td>\n",
       "      <td>0.074937</td>\n",
       "      <td>0.121571</td>\n",
       "      <td>0.138010</td>\n",
       "      <td>0.285714</td>\n",
       "    </tr>\n",
       "    <tr>\n",
       "      <th>True predictions</th>\n",
       "      <td>100.0</td>\n",
       "      <td>0.723170</td>\n",
       "      <td>0.082703</td>\n",
       "      <td>0.471429</td>\n",
       "      <td>0.705172</td>\n",
       "      <td>0.738343</td>\n",
       "      <td>0.774861</td>\n",
       "      <td>0.932432</td>\n",
       "    </tr>\n",
       "    <tr>\n",
       "      <th rowspan=\"3\" valign=\"top\">lattice</th>\n",
       "      <th>Alignment undefined</th>\n",
       "      <td>100.0</td>\n",
       "      <td>0.071424</td>\n",
       "      <td>0.069988</td>\n",
       "      <td>0.000000</td>\n",
       "      <td>0.027027</td>\n",
       "      <td>0.052632</td>\n",
       "      <td>0.076923</td>\n",
       "      <td>0.350000</td>\n",
       "    </tr>\n",
       "    <tr>\n",
       "      <th>False predictions</th>\n",
       "      <td>100.0</td>\n",
       "      <td>0.036083</td>\n",
       "      <td>0.035544</td>\n",
       "      <td>0.000000</td>\n",
       "      <td>0.000000</td>\n",
       "      <td>0.025978</td>\n",
       "      <td>0.051282</td>\n",
       "      <td>0.150000</td>\n",
       "    </tr>\n",
       "    <tr>\n",
       "      <th>True predictions</th>\n",
       "      <td>100.0</td>\n",
       "      <td>0.892493</td>\n",
       "      <td>0.072531</td>\n",
       "      <td>0.644444</td>\n",
       "      <td>0.877287</td>\n",
       "      <td>0.904762</td>\n",
       "      <td>0.943629</td>\n",
       "      <td>1.000000</td>\n",
       "    </tr>\n",
       "    <tr>\n",
       "      <th rowspan=\"3\" valign=\"top\">randomgrid</th>\n",
       "      <th>Alignment undefined</th>\n",
       "      <td>100.0</td>\n",
       "      <td>0.178482</td>\n",
       "      <td>0.060954</td>\n",
       "      <td>0.089347</td>\n",
       "      <td>0.132178</td>\n",
       "      <td>0.165557</td>\n",
       "      <td>0.213801</td>\n",
       "      <td>0.364130</td>\n",
       "    </tr>\n",
       "    <tr>\n",
       "      <th>False predictions</th>\n",
       "      <td>100.0</td>\n",
       "      <td>0.098051</td>\n",
       "      <td>0.037948</td>\n",
       "      <td>0.048276</td>\n",
       "      <td>0.070736</td>\n",
       "      <td>0.086347</td>\n",
       "      <td>0.119384</td>\n",
       "      <td>0.220077</td>\n",
       "    </tr>\n",
       "    <tr>\n",
       "      <th>True predictions</th>\n",
       "      <td>100.0</td>\n",
       "      <td>0.723467</td>\n",
       "      <td>0.067698</td>\n",
       "      <td>0.522330</td>\n",
       "      <td>0.686880</td>\n",
       "      <td>0.733653</td>\n",
       "      <td>0.772048</td>\n",
       "      <td>0.845528</td>\n",
       "    </tr>\n",
       "    <tr>\n",
       "      <th rowspan=\"3\" valign=\"top\">voronoi</th>\n",
       "      <th>Alignment undefined</th>\n",
       "      <td>100.0</td>\n",
       "      <td>0.000000</td>\n",
       "      <td>0.000000</td>\n",
       "      <td>0.000000</td>\n",
       "      <td>0.000000</td>\n",
       "      <td>0.000000</td>\n",
       "      <td>0.000000</td>\n",
       "      <td>0.000000</td>\n",
       "    </tr>\n",
       "    <tr>\n",
       "      <th>False predictions</th>\n",
       "      <td>100.0</td>\n",
       "      <td>0.117230</td>\n",
       "      <td>0.026674</td>\n",
       "      <td>0.076563</td>\n",
       "      <td>0.094889</td>\n",
       "      <td>0.114906</td>\n",
       "      <td>0.134137</td>\n",
       "      <td>0.196043</td>\n",
       "    </tr>\n",
       "    <tr>\n",
       "      <th>True predictions</th>\n",
       "      <td>100.0</td>\n",
       "      <td>0.882770</td>\n",
       "      <td>0.026674</td>\n",
       "      <td>0.803957</td>\n",
       "      <td>0.865863</td>\n",
       "      <td>0.885094</td>\n",
       "      <td>0.905111</td>\n",
       "      <td>0.923438</td>\n",
       "    </tr>\n",
       "  </tbody>\n",
       "</table>\n",
       "</div>"
      ],
      "text/plain": [
       "                                count      mean       std       min       25%  \\\n",
       "graph_type variable                                                             \n",
       "ieee300    Alignment undefined  100.0  0.168023  0.086679  0.067568  0.106195   \n",
       "           False predictions    100.0  0.108807  0.049071  0.000000  0.074937   \n",
       "           True predictions     100.0  0.723170  0.082703  0.471429  0.705172   \n",
       "lattice    Alignment undefined  100.0  0.071424  0.069988  0.000000  0.027027   \n",
       "           False predictions    100.0  0.036083  0.035544  0.000000  0.000000   \n",
       "           True predictions     100.0  0.892493  0.072531  0.644444  0.877287   \n",
       "randomgrid Alignment undefined  100.0  0.178482  0.060954  0.089347  0.132178   \n",
       "           False predictions    100.0  0.098051  0.037948  0.048276  0.070736   \n",
       "           True predictions     100.0  0.723467  0.067698  0.522330  0.686880   \n",
       "voronoi    Alignment undefined  100.0  0.000000  0.000000  0.000000  0.000000   \n",
       "           False predictions    100.0  0.117230  0.026674  0.076563  0.094889   \n",
       "           True predictions     100.0  0.882770  0.026674  0.803957  0.865863   \n",
       "\n",
       "                                     50%       75%       max  \n",
       "graph_type variable                                           \n",
       "ieee300    Alignment undefined  0.140941  0.164570  0.390000  \n",
       "           False predictions    0.121571  0.138010  0.285714  \n",
       "           True predictions     0.738343  0.774861  0.932432  \n",
       "lattice    Alignment undefined  0.052632  0.076923  0.350000  \n",
       "           False predictions    0.025978  0.051282  0.150000  \n",
       "           True predictions     0.904762  0.943629  1.000000  \n",
       "randomgrid Alignment undefined  0.165557  0.213801  0.364130  \n",
       "           False predictions    0.086347  0.119384  0.220077  \n",
       "           True predictions     0.733653  0.772048  0.845528  \n",
       "voronoi    Alignment undefined  0.000000  0.000000  0.000000  \n",
       "           False predictions    0.114906  0.134137  0.196043  \n",
       "           True predictions     0.885094  0.905111  0.923438  "
      ]
     },
     "execution_count": 26,
     "metadata": {},
     "output_type": "execute_result"
    }
   ],
   "source": [
    "data_for_it.groupby(['graph_type', 'variable'])['Fraction of edges'].describe()#.reset_index().sort_values(by='variable')"
   ]
  },
  {
   "cell_type": "code",
   "execution_count": 9,
   "metadata": {
    "execution": {
     "iopub.execute_input": "2022-03-04T14:00:50.472374Z",
     "iopub.status.busy": "2022-03-04T14:00:50.472240Z",
     "iopub.status.idle": "2022-03-04T14:00:52.108430Z",
     "shell.execute_reply": "2022-03-04T14:00:52.108010Z",
     "shell.execute_reply.started": "2022-03-04T14:00:50.472364Z"
    },
    "tags": []
   },
   "outputs": [
    {
     "data": {
      "text/plain": [
       "<AxesSubplot:>"
      ]
     },
     "execution_count": 9,
     "metadata": {},
     "output_type": "execute_result"
    },
    {
     "data": {
      "image/png": "[encoded data removed]",
      "text/plain": [
       "<Figure size 1080x720 with 1 Axes>"
      ]
     },
     "metadata": {
      "needs_background": "light"
     },
     "output_type": "display_data"
    }
   ],
   "source": [
    "fig, ax = plt.subplots()\n",
    "\n",
    "bins = np.linspace(-0.1,0.1,500)\n",
    "ieee300_data.loc[ieee300_data.aligned == 'cant_say', 'susc'].hist(ax=ax, density=True, bins=bins, alpha=0.5, cumulative=True)\n",
    "ieee300_data.loc[:, 'susc'].hist(ax=ax, density=True, bins=bins,alpha=0.5, cumulative=True)"
   ]
  },
  {
   "cell_type": "code",
   "execution_count": 10,
   "metadata": {
    "execution": {
     "iopub.execute_input": "2022-03-02T21:23:39.910344Z",
     "iopub.status.busy": "2022-03-02T21:23:39.909726Z",
     "iopub.status.idle": "2022-03-02T21:23:39.943265Z",
     "shell.execute_reply": "2022-03-02T21:23:39.942941Z",
     "shell.execute_reply.started": "2022-03-02T21:23:39.910293Z"
    },
    "tags": []
   },
   "outputs": [
    {
     "data": {
      "text/html": [
       "<div>\n",
       "<style scoped>\n",
       "    .dataframe tbody tr th:only-of-type {\n",
       "        vertical-align: middle;\n",
       "    }\n",
       "\n",
       "    .dataframe tbody tr th {\n",
       "        vertical-align: top;\n",
       "    }\n",
       "\n",
       "    .dataframe thead th {\n",
       "        text-align: right;\n",
       "    }\n",
       "</style>\n",
       "<table border=\"1\" class=\"dataframe\">\n",
       "  <thead>\n",
       "    <tr style=\"text-align: right;\">\n",
       "      <th></th>\n",
       "      <th>Unnamed: 0</th>\n",
       "      <th>edge_idx</th>\n",
       "      <th>aligned</th>\n",
       "      <th>susc</th>\n",
       "      <th>dist</th>\n",
       "      <th>braessian</th>\n",
       "      <th>seed</th>\n",
       "    </tr>\n",
       "  </thead>\n",
       "  <tbody>\n",
       "    <tr>\n",
       "      <th>0</th>\n",
       "      <td>0</td>\n",
       "      <td>0</td>\n",
       "      <td>bridge</td>\n",
       "      <td>-3.608225e-15</td>\n",
       "      <td>5</td>\n",
       "      <td>False</td>\n",
       "      <td>0</td>\n",
       "    </tr>\n",
       "    <tr>\n",
       "      <th>1</th>\n",
       "      <td>1</td>\n",
       "      <td>1</td>\n",
       "      <td>cant_say</td>\n",
       "      <td>2.444515e-03</td>\n",
       "      <td>4</td>\n",
       "      <td>True</td>\n",
       "      <td>0</td>\n",
       "    </tr>\n",
       "    <tr>\n",
       "      <th>2</th>\n",
       "      <td>2</td>\n",
       "      <td>2</td>\n",
       "      <td>False</td>\n",
       "      <td>-1.441005e-03</td>\n",
       "      <td>5</td>\n",
       "      <td>False</td>\n",
       "      <td>0</td>\n",
       "    </tr>\n",
       "    <tr>\n",
       "      <th>3</th>\n",
       "      <td>3</td>\n",
       "      <td>3</td>\n",
       "      <td>False</td>\n",
       "      <td>-6.333388e-04</td>\n",
       "      <td>5</td>\n",
       "      <td>False</td>\n",
       "      <td>0</td>\n",
       "    </tr>\n",
       "    <tr>\n",
       "      <th>4</th>\n",
       "      <td>4</td>\n",
       "      <td>4</td>\n",
       "      <td>False</td>\n",
       "      <td>-1.629818e-03</td>\n",
       "      <td>5</td>\n",
       "      <td>False</td>\n",
       "      <td>0</td>\n",
       "    </tr>\n",
       "    <tr>\n",
       "      <th>...</th>\n",
       "      <td>...</td>\n",
       "      <td>...</td>\n",
       "      <td>...</td>\n",
       "      <td>...</td>\n",
       "      <td>...</td>\n",
       "      <td>...</td>\n",
       "      <td>...</td>\n",
       "    </tr>\n",
       "    <tr>\n",
       "      <th>40795</th>\n",
       "      <td>40795</td>\n",
       "      <td>404</td>\n",
       "      <td>False</td>\n",
       "      <td>-1.858019e-05</td>\n",
       "      <td>12</td>\n",
       "      <td>False</td>\n",
       "      <td>99</td>\n",
       "    </tr>\n",
       "    <tr>\n",
       "      <th>40796</th>\n",
       "      <td>40796</td>\n",
       "      <td>405</td>\n",
       "      <td>True</td>\n",
       "      <td>3.287618e-05</td>\n",
       "      <td>11</td>\n",
       "      <td>True</td>\n",
       "      <td>99</td>\n",
       "    </tr>\n",
       "    <tr>\n",
       "      <th>40797</th>\n",
       "      <td>40797</td>\n",
       "      <td>406</td>\n",
       "      <td>bridge</td>\n",
       "      <td>1.422473e-16</td>\n",
       "      <td>9</td>\n",
       "      <td>True</td>\n",
       "      <td>99</td>\n",
       "    </tr>\n",
       "    <tr>\n",
       "      <th>40798</th>\n",
       "      <td>40798</td>\n",
       "      <td>407</td>\n",
       "      <td>bridge</td>\n",
       "      <td>1.040834e-17</td>\n",
       "      <td>10</td>\n",
       "      <td>True</td>\n",
       "      <td>99</td>\n",
       "    </tr>\n",
       "    <tr>\n",
       "      <th>40799</th>\n",
       "      <td>40799</td>\n",
       "      <td>408</td>\n",
       "      <td>bridge</td>\n",
       "      <td>-1.968782e-30</td>\n",
       "      <td>6</td>\n",
       "      <td>False</td>\n",
       "      <td>99</td>\n",
       "    </tr>\n",
       "  </tbody>\n",
       "</table>\n",
       "<p>40800 rows × 7 columns</p>\n",
       "</div>"
      ],
      "text/plain": [
       "       Unnamed: 0  edge_idx   aligned          susc  dist  braessian  seed\n",
       "0               0         0    bridge -3.608225e-15     5      False     0\n",
       "1               1         1  cant_say  2.444515e-03     4       True     0\n",
       "2               2         2     False -1.441005e-03     5      False     0\n",
       "3               3         3     False -6.333388e-04     5      False     0\n",
       "4               4         4     False -1.629818e-03     5      False     0\n",
       "...           ...       ...       ...           ...   ...        ...   ...\n",
       "40795       40795       404     False -1.858019e-05    12      False    99\n",
       "40796       40796       405      True  3.287618e-05    11       True    99\n",
       "40797       40797       406    bridge  1.422473e-16     9       True    99\n",
       "40798       40798       407    bridge  1.040834e-17    10       True    99\n",
       "40799       40799       408    bridge -1.968782e-30     6      False    99\n",
       "\n",
       "[40800 rows x 7 columns]"
      ]
     },
     "execution_count": 10,
     "metadata": {},
     "output_type": "execute_result"
    }
   ],
   "source": [
    "ieee300_data"
   ]
  },
  {
   "cell_type": "code",
   "execution_count": null,
   "metadata": {},
   "outputs": [],
   "source": []
  }
 ],
 "metadata": {
  "kernelspec": {
   "display_name": "Python 3 (ipykernel)",
   "language": "python",
   "name": "python3"
  },
  "language_info": {
   "codemirror_mode": {
    "name": "ipython",
    "version": 3
   },
   "file_extension": ".py",
   "mimetype": "text/x-python",
   "name": "python",
   "nbconvert_exporter": "python",
   "pygments_lexer": "ipython3",
   "version": "3.8.10"
  },
  "latex_envs": {
   "LaTeX_envs_menu_present": true,
   "autoclose": false,
   "autocomplete": true,
   "bibliofile": "biblio.bib",
   "cite_by": "apalike",
   "current_citInitial": 1,
   "eqLabelWithNumbers": true,
   "eqNumInitial": 1,
   "hotkeys": {
    "equation": "Ctrl-E",
    "itemize": "Ctrl-I"
   },
   "labels_anchors": false,
   "latex_user_defs": false,
   "report_style_numbering": false,
   "user_envs_cfg": false
  },
  "nav_menu": {},
  "toc": {
   "navigate_menu": true,
   "number_sections": true,
   "sideBar": true,
   "threshold": 6,
   "toc_cell": false,
   "toc_section_display": "block",
   "toc_window_display": false
  }
 },
 "nbformat": 4,
 "nbformat_minor": 4
}

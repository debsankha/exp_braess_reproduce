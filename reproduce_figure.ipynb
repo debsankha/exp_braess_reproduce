{
 "cells": [
  {
   "cell_type": "code",
   "execution_count": 21,
   "metadata": {
    "execution": {
     "iopub.execute_input": "2022-05-25T19:01:36.667720Z",
     "iopub.status.busy": "2022-05-25T19:01:36.666641Z",
     "iopub.status.idle": "2022-05-25T19:01:36.727149Z",
     "shell.execute_reply": "2022-05-25T19:01:36.726734Z",
     "shell.execute_reply.started": "2022-05-25T19:01:36.667681Z"
    },
    "tags": []
   },
   "outputs": [
    {
     "name": "stdout",
     "output_type": "stream",
     "text": [
      "The autoreload extension is already loaded. To reload it, use:\n",
      "  %reload_ext autoreload\n"
     ]
    }
   ],
   "source": [
    "from importlib import reload\n",
    "%load_ext autoreload\n",
    "%autoreload 2\n",
    "import networkx as nx\n",
    "import numpy as np\n",
    "import pandas as pd\n",
    "import matplotlib\n",
    "import seaborn as sns\n",
    "sns.set_style('ticks')\n",
    "matplotlib.rcParams.update(matplotlib.rc_params_from_file('./matplotlibrc'))\n",
    "import matplotlib.pyplot as plt\n",
    "%matplotlib inline\n",
    "matplotlib.rcParams['figure.figsize']=(15,10)\n",
    "matplotlib.rcParams['font.size']=15\n",
    "\n",
    "#matplotlib.rcParams['font.family']='sans-serif'\n",
    "#matplotlib.rcParams['font.sans-serif'] = 'Lado'\n",
    "matplotlib.rcParams['text.usetex']=True\n",
    "#matplotlib.rcParams['figure.titlesize']=30"
   ]
  },
  {
   "cell_type": "code",
   "execution_count": 22,
   "metadata": {
    "execution": {
     "iopub.execute_input": "2022-05-25T19:01:37.195941Z",
     "iopub.status.busy": "2022-05-25T19:01:37.195515Z",
     "iopub.status.idle": "2022-05-25T19:01:37.225985Z",
     "shell.execute_reply": "2022-05-25T19:01:37.225616Z",
     "shell.execute_reply.started": "2022-05-25T19:01:37.195914Z"
    },
    "tags": []
   },
   "outputs": [],
   "source": [
    "def barchart_multiple_graphtypes(datasets, graph_types, thres=10e-5):\n",
    "    all_data = None\n",
    "    for data, graph_type in zip(datasets, graph_types):\n",
    "        df = data\n",
    "        # ignore edges with |susceptibility| < thres\n",
    "        df = df[df[\"susc\"].abs() > thres]\n",
    "        df = df[df['aligned'] != 'bridge']\n",
    "        \n",
    "        if df[\"aligned\"].dtype ==\"O\":\n",
    "            df[\"aligned\"] = df[\"aligned\"].map({\"True\": 1, \"False\":0, \"cant_say\": None}).astype(float)\n",
    "        \n",
    "        \n",
    "        df.loc[:, 'BE, aligned'] = (df['susc']>thres) & (df['aligned']==1)\n",
    "        df.loc[:, 'not BE, aligned'] = (df['susc']<thres) & (df['aligned']==1)\n",
    "\n",
    "        df.loc[:, 'BE, anti-aligned'] = (df['susc']>thres) & (df['aligned']==0)\n",
    "        df.loc[:, 'not BE, anti-aligned'] = (df['susc']<thres) & (df['aligned']==0)\n",
    "\n",
    "        df.loc[:, 'True predictions'] = (df['BE, aligned']==1) | (df['not BE, anti-aligned']==1)\n",
    "        df.loc[:, 'False predictions'] = (df['BE, anti-aligned']==1) | (df['not BE, aligned']==1)\n",
    "        df.loc[:, 'Alignment undefined'] = pd.isna(df['aligned'])\n",
    "\n",
    "\n",
    "        # now compute fraction of BE/non BE edges for each seed\n",
    "        gr = (df.groupby('seed').agg('sum')/df.groupby('seed').agg('count')).reset_index()\n",
    "        wide_df = gr[['seed', 'True predictions', 'False predictions','Alignment undefined']]\n",
    "        long_df = pd.melt(wide_df, id_vars = ['seed'], value_vars=['True predictions', 'False predictions',  'Alignment undefined'], value_name = 'Fraction of edges')\n",
    "        long_df.loc[:, 'graph_type'] = graph_type\n",
    "        \n",
    "        if all_data is None:\n",
    "            all_data = long_df\n",
    "        else:\n",
    "            all_data = pd.concat([all_data, long_df])\n",
    "        \n",
    "        \n",
    "\n",
    "    pl = sns.factorplot(x=\"variable\", y=\"Fraction of edges\", data=all_data, kind = 'bar',\n",
    "                        hue='graph_type', size = 6, aspect = 1.5, ci = 'sd',\\\n",
    "                        units='seed', legend_out = False, linewidth=2, edgecolor='w', \n",
    "                        capsize=0.04)\n",
    "\n",
    "    l = pl.axes[0,0].legend_\n",
    "    l.set_title('Graph type')\n",
    "    l.get_title().set_fontsize(20)\n",
    "    for t in l.get_texts():\n",
    "        t.set_fontsize('20')\n",
    "\n",
    "    ax_orig = pl.axes[0,0]\n",
    "\n",
    "    ax_orig.set_ylim(0, 1.001)\n",
    "    ax_orig.set_xlabel('')\n",
    "\n",
    "\n",
    "    sns.despine(top=False, right=False)\n",
    "    return pl, all_data"
   ]
  },
  {
   "cell_type": "code",
   "execution_count": 23,
   "metadata": {
    "execution": {
     "iopub.execute_input": "2022-05-25T19:01:37.461983Z",
     "iopub.status.busy": "2022-05-25T19:01:37.461603Z",
     "iopub.status.idle": "2022-05-25T19:01:37.484200Z",
     "shell.execute_reply": "2022-05-25T19:01:37.483869Z",
     "shell.execute_reply.started": "2022-05-25T19:01:37.461957Z"
    },
    "tags": []
   },
   "outputs": [],
   "source": [
    "#matplotlib.rcParams['font.family']='sans-serif'\n",
    "#matplotlib.rcParams['font.sans-serif'] = 'Lado'\n",
    "\n",
    "matplotlib.rcParams['font.size']=10\n",
    "plt.rcParams['xtick.labelsize'] = 15\n",
    "plt.rcParams['ytick.labelsize'] = 15\n",
    "plt.rcParams['xtick.major.size'] = 10\n",
    "plt.rcParams['ytick.major.size'] = 10\n",
    "plt.rcParams['xtick.minor.size'] = 10\n",
    "plt.rcParams['ytick.minor.size'] = 10\n",
    "plt.rcParams['xtick.major.width'] = 1\n",
    "plt.rcParams['ytick.major.width'] = 1\n",
    "plt.rcParams['xtick.minor.width'] = 1\n",
    "plt.rcParams['ytick.minor.width'] = 1\n",
    "plt.rcParams['xtick.direction'] = 'in'\n",
    "plt.rcParams['ytick.direction'] = 'in'\n",
    "plt.rcParams['lines.linewidth'] = 2\n",
    "plt.rcParams['lines.markeredgewidth'] = 1\n",
    "plt.rcParams['lines.markersize'] = 14\n",
    "\n",
    "plt.rcParams['errorbar.capsize'] = 9\n",
    "plt.rcParams['text.usetex'] = True\n",
    "plt.rcParams['axes.labelsize'] = 25"
   ]
  },
  {
   "cell_type": "markdown",
   "metadata": {},
   "source": [
    "# Read the data"
   ]
  },
  {
   "cell_type": "code",
   "execution_count": 24,
   "metadata": {
    "execution": {
     "iopub.execute_input": "2022-05-25T19:01:37.834692Z",
     "iopub.status.busy": "2022-05-25T19:01:37.834311Z",
     "iopub.status.idle": "2022-05-25T19:01:38.064466Z",
     "shell.execute_reply": "2022-05-25T19:01:38.064009Z",
     "shell.execute_reply.started": "2022-05-25T19:01:37.834665Z"
    },
    "tags": []
   },
   "outputs": [],
   "source": [
    "import pandas as pd\n",
    "voronoi_data = pd.read_csv('data/voronoi.csv')\n",
    "lattice_data = pd.read_csv('data/lattice.csv')\n",
    "ieee300_data = pd.read_csv('data/ieee300.csv')\n",
    "randomgrid_data = pd.read_csv('data/random_grid.csv')"
   ]
  },
  {
   "cell_type": "code",
   "execution_count": 28,
   "metadata": {
    "execution": {
     "iopub.execute_input": "2022-05-25T19:02:27.543612Z",
     "iopub.status.busy": "2022-05-25T19:02:27.543198Z",
     "iopub.status.idle": "2022-05-25T19:02:27.708266Z",
     "shell.execute_reply": "2022-05-25T19:02:27.707418Z",
     "shell.execute_reply.started": "2022-05-25T19:02:27.543583Z"
    },
    "tags": []
   },
   "outputs": [
    {
     "name": "stdout",
     "output_type": "stream",
     "text": [
      "total 64320\n",
      "drwxr-xr-x   8 debsankha.manik  staff       256 May 25 18:55 \u001b[34m.\u001b[m\u001b[m\n",
      "drwxr-xr-x   3 debsankha.manik  staff        96 May 25 18:55 \u001b[34m.ipynb_checkpoints\u001b[m\u001b[m\n",
      "-rw-r--r--   1 debsankha.manik  staff    378884 May 25 19:30 voronoi.csv\n",
      "-rw-r--r--   1 debsankha.manik  staff   4248834 May 25 19:34 ieee300.csv\n",
      "-rw-r--r--   1 debsankha.manik  staff  18683166 May 25 19:57 lattice.csv\n",
      "drwxr-xr-x  53 debsankha.manik  staff      1696 May 25 20:27 \u001b[34mtmp\u001b[m\u001b[m\n",
      "-rw-r--r--   1 debsankha.manik  staff   7936462 May 25 20:27 random_grid.csv\n",
      "drwxr-xr-x  15 debsankha.manik  staff       480 May 25 21:02 \u001b[34m..\u001b[m\u001b[m\n"
     ]
    }
   ],
   "source": [
    "!ls -altr data/"
   ]
  },
  {
   "cell_type": "code",
   "execution_count": 27,
   "metadata": {
    "execution": {
     "iopub.execute_input": "2022-05-25T19:01:39.000655Z",
     "iopub.status.busy": "2022-05-25T19:01:38.998191Z",
     "iopub.status.idle": "2022-05-25T19:01:39.404835Z",
     "shell.execute_reply": "2022-05-25T19:01:39.404344Z",
     "shell.execute_reply.started": "2022-05-25T19:01:39.000610Z"
    },
    "tags": []
   },
   "outputs": [
    {
     "name": "stderr",
     "output_type": "stream",
     "text": [
      "/Users/debsankha.manik/.pyenv/versions/3.8.10/envs/braessrepro/lib/python3.8/site-packages/seaborn/categorical.py:3717: UserWarning: The `factorplot` function has been renamed to `catplot`. The original name will be removed in a future release. Please update your code. Note that the default `kind` in `factorplot` (`'point'`) has changed `'strip'` in `catplot`.\n",
      "  warnings.warn(msg)\n",
      "/Users/debsankha.manik/.pyenv/versions/3.8.10/envs/braessrepro/lib/python3.8/site-packages/seaborn/categorical.py:3723: UserWarning: The `size` parameter has been renamed to `height`; please update your code.\n",
      "  warnings.warn(msg, UserWarning)\n"
     ]
    },
    {
     "data": {
      "image/png": "[encoded data removed]",
      "text/plain": [
       "<Figure size 540x360 with 1 Axes>"
      ]
     },
     "metadata": {
      "needs_background": "light"
     },
     "output_type": "display_data"
    }
   ],
   "source": [
    "with sns.color_palette(\"Dark2\"):\n",
    "    pl, data_for_it = barchart_multiple_graphtypes([voronoi_data,\n",
    "                                                    lattice_data,\n",
    "                                                    ieee300_data,\n",
    "                                                   ], \n",
    "                                                   graph_types=[\n",
    "                                                                'lattice',\n",
    "                                                                'voronoi',\n",
    "                                                                'ieee300',\n",
    "                                                               ]\n",
    "                                                  )\n",
    "pl.fig.set_size_inches(7.5, 5)\n",
    "\n",
    "pl.fig.axes[0].yaxis.set_tick_params(labelsize=20)\n",
    "pl.fig.axes[0].xaxis.set_tick_params(labelsize=20)\n",
    "\n",
    "pl.savefig(\"crerouting-heuristic-classifier-barchart-three-topo-nodist.pdf\", bbox_inches='tight')"
   ]
  },
  {
   "cell_type": "code",
   "execution_count": 26,
   "metadata": {
    "execution": {
     "iopub.execute_input": "2022-03-13T11:22:54.824838Z",
     "iopub.status.busy": "2022-03-13T11:22:54.824470Z",
     "iopub.status.idle": "2022-03-13T11:22:54.872584Z",
     "shell.execute_reply": "2022-03-13T11:22:54.872352Z",
     "shell.execute_reply.started": "2022-03-13T11:22:54.824809Z"
    },
    "tags": []
   },
   "outputs": [
    {
     "data": {
      "text/html": [
       "<div>\n",
       "<style scoped>\n",
       "    .dataframe tbody tr th:only-of-type {\n",
       "        vertical-align: middle;\n",
       "    }\n",
       "\n",
       "    .dataframe tbody tr th {\n",
       "        vertical-align: top;\n",
       "    }\n",
       "\n",
       "    .dataframe thead th {\n",
       "        text-align: right;\n",
       "    }\n",
       "</style>\n",
       "<table border=\"1\" class=\"dataframe\">\n",
       "  <thead>\n",
       "    <tr style=\"text-align: right;\">\n",
       "      <th></th>\n",
       "      <th></th>\n",
       "      <th>count</th>\n",
       "      <th>mean</th>\n",
       "      <th>std</th>\n",
       "      <th>min</th>\n",
       "      <th>25%</th>\n",
       "      <th>50%</th>\n",
       "      <th>75%</th>\n",
       "      <th>max</th>\n",
       "    </tr>\n",
       "    <tr>\n",
       "      <th>graph_type</th>\n",
       "      <th>variable</th>\n",
       "      <th></th>\n",
       "      <th></th>\n",
       "      <th></th>\n",
       "      <th></th>\n",
       "      <th></th>\n",
       "      <th></th>\n",
       "      <th></th>\n",
       "      <th></th>\n",
       "    </tr>\n",
       "  </thead>\n",
       "  <tbody>\n",
       "    <tr>\n",
       "      <th rowspan=\"3\" valign=\"top\">ieee300</th>\n",
       "      <th>Alignment undefined</th>\n",
       "      <td>100.0</td>\n",
       "      <td>0.168023</td>\n",
       "      <td>0.086679</td>\n",
       "      <td>0.067568</td>\n",
       "      <td>0.106195</td>\n",
       "      <td>0.140941</td>\n",
       "      <td>0.164570</td>\n",
       "      <td>0.390000</td>\n",
       "    </tr>\n",
       "    <tr>\n",
       "      <th>False predictions</th>\n",
       "      <td>100.0</td>\n",
       "      <td>0.108807</td>\n",
       "      <td>0.049071</td>\n",
       "      <td>0.000000</td>\n",
       "      <td>0.074937</td>\n",
       "      <td>0.121571</td>\n",
       "      <td>0.138010</td>\n",
       "      <td>0.285714</td>\n",
       "    </tr>\n",
       "    <tr>\n",
       "      <th>True predictions</th>\n",
       "      <td>100.0</td>\n",
       "      <td>0.723170</td>\n",
       "      <td>0.082703</td>\n",
       "      <td>0.471429</td>\n",
       "      <td>0.705172</td>\n",
       "      <td>0.738343</td>\n",
       "      <td>0.774861</td>\n",
       "      <td>0.932432</td>\n",
       "    </tr>\n",
       "    <tr>\n",
       "      <th rowspan=\"3\" valign=\"top\">lattice</th>\n",
       "      <th>Alignment undefined</th>\n",
       "      <td>100.0</td>\n",
       "      <td>0.071424</td>\n",
       "      <td>0.069988</td>\n",
       "      <td>0.000000</td>\n",
       "      <td>0.027027</td>\n",
       "      <td>0.052632</td>\n",
       "      <td>0.076923</td>\n",
       "      <td>0.350000</td>\n",
       "    </tr>\n",
       "    <tr>\n",
       "      <th>False predictions</th>\n",
       "      <td>100.0</td>\n",
       "      <td>0.036083</td>\n",
       "      <td>0.035544</td>\n",
       "      <td>0.000000</td>\n",
       "      <td>0.000000</td>\n",
       "      <td>0.025978</td>\n",
       "      <td>0.051282</td>\n",
       "      <td>0.150000</td>\n",
       "    </tr>\n",
       "    <tr>\n",
       "      <th>True predictions</th>\n",
       "      <td>100.0</td>\n",
       "      <td>0.892493</td>\n",
       "      <td>0.072531</td>\n",
       "      <td>0.644444</td>\n",
       "      <td>0.877287</td>\n",
       "      <td>0.904762</td>\n",
       "      <td>0.943629</td>\n",
       "      <td>1.000000</td>\n",
       "    </tr>\n",
       "    <tr>\n",
       "      <th rowspan=\"3\" valign=\"top\">randomgrid</th>\n",
       "      <th>Alignment undefined</th>\n",
       "      <td>100.0</td>\n",
       "      <td>0.178482</td>\n",
       "      <td>0.060954</td>\n",
       "      <td>0.089347</td>\n",
       "      <td>0.132178</td>\n",
       "      <td>0.165557</td>\n",
       "      <td>0.213801</td>\n",
       "      <td>0.364130</td>\n",
       "    </tr>\n",
       "    <tr>\n",
       "      <th>False predictions</th>\n",
       "      <td>100.0</td>\n",
       "      <td>0.098051</td>\n",
       "      <td>0.037948</td>\n",
       "      <td>0.048276</td>\n",
       "      <td>0.070736</td>\n",
       "      <td>0.086347</td>\n",
       "      <td>0.119384</td>\n",
       "      <td>0.220077</td>\n",
       "    </tr>\n",
       "    <tr>\n",
       "      <th>True predictions</th>\n",
       "      <td>100.0</td>\n",
       "      <td>0.723467</td>\n",
       "      <td>0.067698</td>\n",
       "      <td>0.522330</td>\n",
       "      <td>0.686880</td>\n",
       "      <td>0.733653</td>\n",
       "      <td>0.772048</td>\n",
       "      <td>0.845528</td>\n",
       "    </tr>\n",
       "    <tr>\n",
       "      <th rowspan=\"3\" valign=\"top\">voronoi</th>\n",
       "      <th>Alignment undefined</th>\n",
       "      <td>100.0</td>\n",
       "      <td>0.000000</td>\n",
       "      <td>0.000000</td>\n",
       "      <td>0.000000</td>\n",
       "      <td>0.000000</td>\n",
       "      <td>0.000000</td>\n",
       "      <td>0.000000</td>\n",
       "      <td>0.000000</td>\n",
       "    </tr>\n",
       "    <tr>\n",
       "      <th>False predictions</th>\n",
       "      <td>100.0</td>\n",
       "      <td>0.117230</td>\n",
       "      <td>0.026674</td>\n",
       "      <td>0.076563</td>\n",
       "      <td>0.094889</td>\n",
       "      <td>0.114906</td>\n",
       "      <td>0.134137</td>\n",
       "      <td>0.196043</td>\n",
       "    </tr>\n",
       "    <tr>\n",
       "      <th>True predictions</th>\n",
       "      <td>100.0</td>\n",
       "      <td>0.882770</td>\n",
       "      <td>0.026674</td>\n",
       "      <td>0.803957</td>\n",
       "      <td>0.865863</td>\n",
       "      <td>0.885094</td>\n",
       "      <td>0.905111</td>\n",
       "      <td>0.923438</td>\n",
       "    </tr>\n",
       "  </tbody>\n",
       "</table>\n",
       "</div>"
      ],
      "text/plain": [
       "                                count      mean       std       min       25%  \\\n",
       "graph_type variable                                                             \n",
       "ieee300    Alignment undefined  100.0  0.168023  0.086679  0.067568  0.106195   \n",
       "           False predictions    100.0  0.108807  0.049071  0.000000  0.074937   \n",
       "           True predictions     100.0  0.723170  0.082703  0.471429  0.705172   \n",
       "lattice    Alignment undefined  100.0  0.071424  0.069988  0.000000  0.027027   \n",
       "           False predictions    100.0  0.036083  0.035544  0.000000  0.000000   \n",
       "           True predictions     100.0  0.892493  0.072531  0.644444  0.877287   \n",
       "randomgrid Alignment undefined  100.0  0.178482  0.060954  0.089347  0.132178   \n",
       "           False predictions    100.0  0.098051  0.037948  0.048276  0.070736   \n",
       "           True predictions     100.0  0.723467  0.067698  0.522330  0.686880   \n",
       "voronoi    Alignment undefined  100.0  0.000000  0.000000  0.000000  0.000000   \n",
       "           False predictions    100.0  0.117230  0.026674  0.076563  0.094889   \n",
       "           True predictions     100.0  0.882770  0.026674  0.803957  0.865863   \n",
       "\n",
       "                                     50%       75%       max  \n",
       "graph_type variable                                           \n",
       "ieee300    Alignment undefined  0.140941  0.164570  0.390000  \n",
       "           False predictions    0.121571  0.138010  0.285714  \n",
       "           True predictions     0.738343  0.774861  0.932432  \n",
       "lattice    Alignment undefined  0.052632  0.076923  0.350000  \n",
       "           False predictions    0.025978  0.051282  0.150000  \n",
       "           True predictions     0.904762  0.943629  1.000000  \n",
       "randomgrid Alignment undefined  0.165557  0.213801  0.364130  \n",
       "           False predictions    0.086347  0.119384  0.220077  \n",
       "           True predictions     0.733653  0.772048  0.845528  \n",
       "voronoi    Alignment undefined  0.000000  0.000000  0.000000  \n",
       "           False predictions    0.114906  0.134137  0.196043  \n",
       "           True predictions     0.885094  0.905111  0.923438  "
      ]
     },
     "execution_count": 26,
     "metadata": {},
     "output_type": "execute_result"
    }
   ],
   "source": [
    "data_for_it.groupby(['graph_type', 'variable'])['Fraction of edges'].describe()#.reset_index().sort_values(by='variable')"
   ]
  },
  {
   "cell_type": "code",
   "execution_count": null,
   "metadata": {},
   "outputs": [],
   "source": []
  }
 ],
 "metadata": {
  "kernelspec": {
   "display_name": "Python 3 (ipykernel)",
   "language": "python",
   "name": "python3"
  },
  "language_info": {
   "codemirror_mode": {
    "name": "ipython",
    "version": 3
   },
   "file_extension": ".py",
   "mimetype": "text/x-python",
   "name": "python",
   "nbconvert_exporter": "python",
   "pygments_lexer": "ipython3",
   "version": "3.8.10"
  },
  "latex_envs": {
   "LaTeX_envs_menu_present": true,
   "autoclose": false,
   "autocomplete": true,
   "bibliofile": "biblio.bib",
   "cite_by": "apalike",
   "current_citInitial": 1,
   "eqLabelWithNumbers": true,
   "eqNumInitial": 1,
   "hotkeys": {
    "equation": "Ctrl-E",
    "itemize": "Ctrl-I"
   },
   "labels_anchors": false,
   "latex_user_defs": false,
   "report_style_numbering": false,
   "user_envs_cfg": false
  },
  "nav_menu": {},
  "toc": {
   "navigate_menu": true,
   "number_sections": true,
   "sideBar": true,
   "threshold": 6,
   "toc_cell": false,
   "toc_section_display": "block",
   "toc_window_display": false
  }
 },
 "nbformat": 4,
 "nbformat_minor": 4
}
